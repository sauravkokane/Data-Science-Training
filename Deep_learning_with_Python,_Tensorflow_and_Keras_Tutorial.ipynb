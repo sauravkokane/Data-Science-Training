{
  "nbformat": 4,
  "nbformat_minor": 0,
  "metadata": {
    "colab": {
      "provenance": [],
      "mount_file_id": "1bnNi6D3YkvuHh2rRpOQlKSiaezjvLZ0E",
      "authorship_tag": "ABX9TyNDegstAsqnebYb/wb926eP",
      "include_colab_link": true
    },
    "kernelspec": {
      "name": "python3",
      "display_name": "Python 3"
    },
    "language_info": {
      "name": "python"
    }
  },
  "cells": [
    {
      "cell_type": "markdown",
      "metadata": {
        "id": "view-in-github",
        "colab_type": "text"
      },
      "source": [
        "<a href=\"https://colab.research.google.com/github/sauravkokane/Data-Science-Training/blob/master/Deep_learning_with_Python%2C_Tensorflow_and_Keras_Tutorial.ipynb\" target=\"_parent\"><img src=\"https://colab.research.google.com/assets/colab-badge.svg\" alt=\"Open In Colab\"/></a>"
      ]
    },
    {
      "cell_type": "code",
      "source": [
        "# import required libraries\n",
        "import numpy as np\n",
        "import matplotlib.pyplot as plt"
      ],
      "metadata": {
        "id": "v-6IMvPXiT-9"
      },
      "execution_count": 1,
      "outputs": []
    },
    {
      "cell_type": "code",
      "source": [
        "import tensorflow as tf\n",
        "\n",
        "tf.__version__"
      ],
      "metadata": {
        "colab": {
          "base_uri": "https://localhost:8080/",
          "height": 35
        },
        "id": "_Mare4GLXwYg",
        "outputId": "8dffbbbf-6143-42d4-b183-f66acbd4ce2f"
      },
      "execution_count": 2,
      "outputs": [
        {
          "output_type": "execute_result",
          "data": {
            "text/plain": [
              "'2.17.1'"
            ],
            "application/vnd.google.colaboratory.intrinsic+json": {
              "type": "string"
            }
          },
          "metadata": {},
          "execution_count": 2
        }
      ]
    },
    {
      "cell_type": "code",
      "source": [
        "# connect drive to this notebook\n",
        "from google.colab import drive\n",
        "drive.mount('/content/drive')"
      ],
      "metadata": {
        "colab": {
          "base_uri": "https://localhost:8080/"
        },
        "id": "NV1qqtbg_wD5",
        "outputId": "c057e496-e475-4492-fba9-f2e0b72d4b76"
      },
      "execution_count": 3,
      "outputs": [
        {
          "output_type": "stream",
          "name": "stdout",
          "text": [
            "Drive already mounted at /content/drive; to attempt to forcibly remount, call drive.mount(\"/content/drive\", force_remount=True).\n"
          ]
        }
      ]
    },
    {
      "cell_type": "code",
      "source": [
        "# load mnist dataset\n",
        "mnist = tf.keras.datasets.mnist"
      ],
      "metadata": {
        "id": "WZ23UnEhXwUj"
      },
      "execution_count": 5,
      "outputs": []
    },
    {
      "cell_type": "code",
      "source": [
        "(x_train, y_train), (x_test, y_test) = mnist.load_data()"
      ],
      "metadata": {
        "id": "Ql5721-xXwQ2"
      },
      "execution_count": 41,
      "outputs": []
    },
    {
      "cell_type": "code",
      "source": [
        "plt.imshow(x_train[100], cmap='gray')\n",
        "plt.show()"
      ],
      "metadata": {
        "colab": {
          "base_uri": "https://localhost:8080/",
          "height": 430
        },
        "id": "ZwOI4cGvXwNc",
        "outputId": "6798d34e-79a6-4307-b207-50f64a2cf924"
      },
      "execution_count": 7,
      "outputs": [
        {
          "output_type": "display_data",
          "data": {
            "text/plain": [
              "<Figure size 640x480 with 1 Axes>"
            ],
            "image/png": "[encoded data removed]"
          },
          "metadata": {}
        }
      ]
    },
    {
      "cell_type": "code",
      "source": [
        "print(x_train[100])"
      ],
      "metadata": {
        "colab": {
          "base_uri": "https://localhost:8080/"
        },
        "id": "ZiHzAPQ6XwLc",
        "outputId": "d24c935f-4e32-4437-a3f8-f155583b7671"
      },
      "execution_count": 8,
      "outputs": [
        {
          "output_type": "stream",
          "name": "stdout",
          "text": [
            "[[  0   0   0   0   0   0   0   0   0   0   0   0   0   0   0   0   0   0\n",
            "    0   0   0   0   0   0   0   0   0   0]\n",
            " [  0   0   0   0   0   0   0   0   0   0   0   0   0   0   0   0   0   0\n",
            "    0   0   0   0   0   0   0   0   0   0]\n",
            " [  0   0   0   0   0   0   0   0   0   0   0   0   0   0   0   0   0   0\n",
            "    0   0   0   0   0   0   0   0   0   0]\n",
            " [  0   0   0   0   0   0   0   0   0   0   0   0   0   0   0   0   0   0\n",
            "    0   0   0   0   0   0   0   0   0   0]\n",
            " [  0   0   0   0   0   0   0   0   0   0   0   0   0   0   0   0   0   0\n",
            "    0   0   0   0   0   0   0   0   0   0]\n",
            " [  0   0   0   0   0   0   0   0   0   0   0   0   0   0   0   0   0   0\n",
            "    0   0   0   0   0   0   0   0   0   0]\n",
            " [  0   0   0   0   0   0   0   0   0   0   0   0   0   2  18  46 136 136\n",
            "  244 255 241 103   0   0   0   0   0   0]\n",
            " [  0   0   0   0   0   0   0   0   0   0   0  15  94 163 253 253 253 253\n",
            "  238 218 204  35   0   0   0   0   0   0]\n",
            " [  0   0   0   0   0   0   0   0   0   0   0 131 253 253 253 253 237 200\n",
            "   57   0   0   0   0   0   0   0   0   0]\n",
            " [  0   0   0   0   0   0   0   0   0   0 155 246 253 247 108  65  45   0\n",
            "    0   0   0   0   0   0   0   0   0   0]\n",
            " [  0   0   0   0   0   0   0   0   0   0 207 253 253 230   0   0   0   0\n",
            "    0   0   0   0   0   0   0   0   0   0]\n",
            " [  0   0   0   0   0   0   0   0   0   0 157 253 253 125   0   0   0   0\n",
            "    0   0   0   0   0   0   0   0   0   0]\n",
            " [  0   0   0   0   0   0   0   0   0   0  89 253 250  57   0   0   0   0\n",
            "    0   0   0   0   0   0   0   0   0   0]\n",
            " [  0   0   0   0   0   0   0   0   0   0  89 253 247   0   0   0   0   0\n",
            "    0   0   0   0   0   0   0   0   0   0]\n",
            " [  0   0   0   0   0   0   0   0   0   0  89 253 247   0   0   0   0   0\n",
            "    0   0   0   0   0   0   0   0   0   0]\n",
            " [  0   0   0   0   0   0   0   0   0   0  89 253 247   0   0   0   0   0\n",
            "    0   0   0   0   0   0   0   0   0   0]\n",
            " [  0   0   0   0   0   0   0   0   0   0  21 231 249  34   0   0   0   0\n",
            "    0   0   0   0   0   0   0   0   0   0]\n",
            " [  0   0   0   0   0   0   0   0   0   0   0 225 253 231 213 213 123  16\n",
            "    0   0   0   0   0   0   0   0   0   0]\n",
            " [  0   0   0   0   0   0   0   0   0   0   0 172 253 253 253 253 253 190\n",
            "   63   0   0   0   0   0   0   0   0   0]\n",
            " [  0   0   0   0   0   0   0   0   0   0   0   2 116  72 124 209 253 253\n",
            "  141   0   0   0   0   0   0   0   0   0]\n",
            " [  0   0   0   0   0   0   0   0   0   0   0   0   0   0   0  25 219 253\n",
            "  206   3   0   0   0   0   0   0   0   0]\n",
            " [  0   0   0   0   0   0   0   0   0   0   0   0   0   0   0   0 104 246\n",
            "  253   5   0   0   0   0   0   0   0   0]\n",
            " [  0   0   0   0   0   0   0   0   0   0   0   0   0   0   0   0   0 213\n",
            "  253   5   0   0   0   0   0   0   0   0]\n",
            " [  0   0   0   0   0   0   0   0   0   0   0   0   0   0   0   0  26 226\n",
            "  253   5   0   0   0   0   0   0   0   0]\n",
            " [  0   0   0   0   0   0   0   0   0   0   0   0   0   0   0   0 132 253\n",
            "  209   3   0   0   0   0   0   0   0   0]\n",
            " [  0   0   0   0   0   0   0   0   0   0   0   0   0   0   0   0  78 253\n",
            "   86   0   0   0   0   0   0   0   0   0]\n",
            " [  0   0   0   0   0   0   0   0   0   0   0   0   0   0   0   0   0   0\n",
            "    0   0   0   0   0   0   0   0   0   0]\n",
            " [  0   0   0   0   0   0   0   0   0   0   0   0   0   0   0   0   0   0\n",
            "    0   0   0   0   0   0   0   0   0   0]]\n"
          ]
        }
      ]
    },
    {
      "cell_type": "code",
      "source": [
        "# Normalize the data from x_train and x_test\n",
        "x_train = tf.keras.utils.normalize(x_train, axis=1)\n",
        "x_test = tf.keras.utils.normalize(x_test, axis=1)"
      ],
      "metadata": {
        "id": "22L398BNXwHy"
      },
      "execution_count": 42,
      "outputs": []
    },
    {
      "cell_type": "code",
      "source": [
        "plt.imshow(x_train[100], cmap='gray')\n",
        "plt.show()"
      ],
      "metadata": {
        "colab": {
          "base_uri": "https://localhost:8080/",
          "height": 430
        },
        "id": "Q58wVp4CXwEq",
        "outputId": "febf6d74-5990-4b91-c866-ba7da6429f49"
      },
      "execution_count": 9,
      "outputs": [
        {
          "output_type": "display_data",
          "data": {
            "text/plain": [
              "<Figure size 640x480 with 1 Axes>"
            ],
            "image/png": "[encoded data removed]"
          },
          "metadata": {}
        }
      ]
    },
    {
      "cell_type": "code",
      "source": [
        "print(x_train[100])"
      ],
      "metadata": {
        "colab": {
          "base_uri": "https://localhost:8080/"
        },
        "id": "GvTkYAD9XwC0",
        "outputId": "9178479f-dcae-496c-c12a-a9cfa1e1229f"
      },
      "execution_count": 10,
      "outputs": [
        {
          "output_type": "stream",
          "name": "stdout",
          "text": [
            "[[  0   0   0   0   0   0   0   0   0   0   0   0   0   0   0   0   0   0\n",
            "    0   0   0   0   0   0   0   0   0   0]\n",
            " [  0   0   0   0   0   0   0   0   0   0   0   0   0   0   0   0   0   0\n",
            "    0   0   0   0   0   0   0   0   0   0]\n",
            " [  0   0   0   0   0   0   0   0   0   0   0   0   0   0   0   0   0   0\n",
            "    0   0   0   0   0   0   0   0   0   0]\n",
            " [  0   0   0   0   0   0   0   0   0   0   0   0   0   0   0   0   0   0\n",
            "    0   0   0   0   0   0   0   0   0   0]\n",
            " [  0   0   0   0   0   0   0   0   0   0   0   0   0   0   0   0   0   0\n",
            "    0   0   0   0   0   0   0   0   0   0]\n",
            " [  0   0   0   0   0   0   0   0   0   0   0   0   0   0   0   0   0   0\n",
            "    0   0   0   0   0   0   0   0   0   0]\n",
            " [  0   0   0   0   0   0   0   0   0   0   0   0   0   2  18  46 136 136\n",
            "  244 255 241 103   0   0   0   0   0   0]\n",
            " [  0   0   0   0   0   0   0   0   0   0   0  15  94 163 253 253 253 253\n",
            "  238 218 204  35   0   0   0   0   0   0]\n",
            " [  0   0   0   0   0   0   0   0   0   0   0 131 253 253 253 253 237 200\n",
            "   57   0   0   0   0   0   0   0   0   0]\n",
            " [  0   0   0   0   0   0   0   0   0   0 155 246 253 247 108  65  45   0\n",
            "    0   0   0   0   0   0   0   0   0   0]\n",
            " [  0   0   0   0   0   0   0   0   0   0 207 253 253 230   0   0   0   0\n",
            "    0   0   0   0   0   0   0   0   0   0]\n",
            " [  0   0   0   0   0   0   0   0   0   0 157 253 253 125   0   0   0   0\n",
            "    0   0   0   0   0   0   0   0   0   0]\n",
            " [  0   0   0   0   0   0   0   0   0   0  89 253 250  57   0   0   0   0\n",
            "    0   0   0   0   0   0   0   0   0   0]\n",
            " [  0   0   0   0   0   0   0   0   0   0  89 253 247   0   0   0   0   0\n",
            "    0   0   0   0   0   0   0   0   0   0]\n",
            " [  0   0   0   0   0   0   0   0   0   0  89 253 247   0   0   0   0   0\n",
            "    0   0   0   0   0   0   0   0   0   0]\n",
            " [  0   0   0   0   0   0   0   0   0   0  89 253 247   0   0   0   0   0\n",
            "    0   0   0   0   0   0   0   0   0   0]\n",
            " [  0   0   0   0   0   0   0   0   0   0  21 231 249  34   0   0   0   0\n",
            "    0   0   0   0   0   0   0   0   0   0]\n",
            " [  0   0   0   0   0   0   0   0   0   0   0 225 253 231 213 213 123  16\n",
            "    0   0   0   0   0   0   0   0   0   0]\n",
            " [  0   0   0   0   0   0   0   0   0   0   0 172 253 253 253 253 253 190\n",
            "   63   0   0   0   0   0   0   0   0   0]\n",
            " [  0   0   0   0   0   0   0   0   0   0   0   2 116  72 124 209 253 253\n",
            "  141   0   0   0   0   0   0   0   0   0]\n",
            " [  0   0   0   0   0   0   0   0   0   0   0   0   0   0   0  25 219 253\n",
            "  206   3   0   0   0   0   0   0   0   0]\n",
            " [  0   0   0   0   0   0   0   0   0   0   0   0   0   0   0   0 104 246\n",
            "  253   5   0   0   0   0   0   0   0   0]\n",
            " [  0   0   0   0   0   0   0   0   0   0   0   0   0   0   0   0   0 213\n",
            "  253   5   0   0   0   0   0   0   0   0]\n",
            " [  0   0   0   0   0   0   0   0   0   0   0   0   0   0   0   0  26 226\n",
            "  253   5   0   0   0   0   0   0   0   0]\n",
            " [  0   0   0   0   0   0   0   0   0   0   0   0   0   0   0   0 132 253\n",
            "  209   3   0   0   0   0   0   0   0   0]\n",
            " [  0   0   0   0   0   0   0   0   0   0   0   0   0   0   0   0  78 253\n",
            "   86   0   0   0   0   0   0   0   0   0]\n",
            " [  0   0   0   0   0   0   0   0   0   0   0   0   0   0   0   0   0   0\n",
            "    0   0   0   0   0   0   0   0   0   0]\n",
            " [  0   0   0   0   0   0   0   0   0   0   0   0   0   0   0   0   0   0\n",
            "    0   0   0   0   0   0   0   0   0   0]]\n"
          ]
        }
      ]
    },
    {
      "cell_type": "code",
      "source": [
        "# Import sequential model\n",
        "from tensorflow.keras.models import Sequential\n",
        "from tensorflow.keras.layers import Dense, Flatten"
      ],
      "metadata": {
        "id": "cTMaOGN_Xv_I"
      },
      "execution_count": 43,
      "outputs": []
    },
    {
      "cell_type": "code",
      "source": [
        "model = Sequential()\n",
        "model.add(Flatten())\n",
        "model.add(Dense(128, activation='relu'))\n",
        "model.add(Dense(128, activation='relu'))\n",
        "model.add(Dense(10, activation='softmax'))\n",
        "\n",
        "model.compile(optimizer='adam', loss='sparse_categorical_crossentropy', metrics=['accuracy'])"
      ],
      "metadata": {
        "id": "5F-JVbtSXv8b"
      },
      "execution_count": 44,
      "outputs": []
    },
    {
      "cell_type": "code",
      "source": [
        "# Train the model\n",
        "model.fit(x_train, y_train, epochs=3)"
      ],
      "metadata": {
        "colab": {
          "base_uri": "https://localhost:8080/"
        },
        "id": "7pagfVwNXv5A",
        "outputId": "c23614da-fa80-4802-be1d-6ece1486d56b"
      },
      "execution_count": 45,
      "outputs": [
        {
          "output_type": "stream",
          "name": "stdout",
          "text": [
            "Epoch 1/3\n",
            "\u001b[1m1875/1875\u001b[0m \u001b[32m━━━━━━━━━━━━━━━━━━━━\u001b[0m\u001b[37m\u001b[0m \u001b[1m10s\u001b[0m 4ms/step - accuracy: 0.8632 - loss: 0.4737\n",
            "Epoch 2/3\n",
            "\u001b[1m1875/1875\u001b[0m \u001b[32m━━━━━━━━━━━━━━━━━━━━\u001b[0m\u001b[37m\u001b[0m \u001b[1m11s\u001b[0m 5ms/step - accuracy: 0.9657 - loss: 0.1122\n",
            "Epoch 3/3\n",
            "\u001b[1m1875/1875\u001b[0m \u001b[32m━━━━━━━━━━━━━━━━━━━━\u001b[0m\u001b[37m\u001b[0m \u001b[1m7s\u001b[0m 4ms/step - accuracy: 0.9776 - loss: 0.0738\n"
          ]
        },
        {
          "output_type": "execute_result",
          "data": {
            "text/plain": [
              "<keras.src.callbacks.history.History at 0x78065258eda0>"
            ]
          },
          "metadata": {},
          "execution_count": 45
        }
      ]
    },
    {
      "cell_type": "code",
      "source": [
        "# Test loss and accuracy of model\n",
        "val_loss, val_acc = model.evaluate(x_test, y_test)\n",
        "print(val_loss, val_acc)"
      ],
      "metadata": {
        "colab": {
          "base_uri": "https://localhost:8080/"
        },
        "id": "JTgIM1GyXv17",
        "outputId": "356c2a05-e899-4997-bc74-99e6892a3f45"
      },
      "execution_count": 46,
      "outputs": [
        {
          "output_type": "stream",
          "name": "stdout",
          "text": [
            "\u001b[1m313/313\u001b[0m \u001b[32m━━━━━━━━━━━━━━━━━━━━\u001b[0m\u001b[37m\u001b[0m \u001b[1m1s\u001b[0m 2ms/step - accuracy: 0.9664 - loss: 0.1025\n",
            "0.09017626941204071 0.9710000157356262\n"
          ]
        }
      ]
    },
    {
      "cell_type": "code",
      "source": [
        "model.save('/content/drive/MyDrive/ML_DL_Models/handwritten.keras')"
      ],
      "metadata": {
        "id": "A8DzYVI5XvyO"
      },
      "execution_count": 47,
      "outputs": []
    },
    {
      "cell_type": "code",
      "source": [
        "new_model = tf.keras.models.load_model('/content/drive/MyDrive/ML_DL_Models/handwritten.keras')"
      ],
      "metadata": {
        "id": "rJ9QVHhZXvv9"
      },
      "execution_count": 48,
      "outputs": []
    },
    {
      "cell_type": "code",
      "source": [
        "predictions = new_model.predict([x_test])"
      ],
      "metadata": {
        "colab": {
          "base_uri": "https://localhost:8080/"
        },
        "id": "lIIbQ7u7Xvsr",
        "outputId": "3749d795-e6fe-407c-ab85-a2ae343568b9"
      },
      "execution_count": 49,
      "outputs": [
        {
          "output_type": "stream",
          "name": "stdout",
          "text": [
            "\u001b[1m313/313\u001b[0m \u001b[32m━━━━━━━━━━━━━━━━━━━━\u001b[0m\u001b[37m\u001b[0m \u001b[1m1s\u001b[0m 2ms/step\n"
          ]
        }
      ]
    },
    {
      "cell_type": "code",
      "source": [
        "x_test.shape"
      ],
      "metadata": {
        "colab": {
          "base_uri": "https://localhost:8080/"
        },
        "id": "u92u8tJde0so",
        "outputId": "96a99820-a00b-4f7e-c8fc-63d1ab83960d"
      },
      "execution_count": 50,
      "outputs": [
        {
          "output_type": "execute_result",
          "data": {
            "text/plain": [
              "(10000, 28, 28)"
            ]
          },
          "metadata": {},
          "execution_count": 50
        }
      ]
    },
    {
      "cell_type": "code",
      "source": [
        "x_test[0]"
      ],
      "metadata": {
        "colab": {
          "base_uri": "https://localhost:8080/"
        },
        "collapsed": true,
        "id": "erpTOgWCeUtU",
        "outputId": "6e92e3be-7bf2-48bb-e1e8-cb0a62d91420"
      },
      "execution_count": 51,
      "outputs": [
        {
          "output_type": "execute_result",
          "data": {
            "text/plain": [
              "array([[0.        , 0.        , 0.        , 0.        , 0.        ,\n",
              "        0.        , 0.        , 0.        , 0.        , 0.        ,\n",
              "        0.        , 0.        , 0.        , 0.        , 0.        ,\n",
              "        0.        , 0.        , 0.        , 0.        , 0.        ,\n",
              "        0.        , 0.        , 0.        , 0.        , 0.        ,\n",
              "        0.        , 0.        , 0.        ],\n",
              "       [0.        , 0.        , 0.        , 0.        , 0.        ,\n",
              "        0.        , 0.        , 0.        , 0.        , 0.        ,\n",
              "        0.        , 0.        , 0.        , 0.        , 0.        ,\n",
              "        0.        , 0.        , 0.        , 0.        , 0.        ,\n",
              "        0.        , 0.        , 0.        , 0.        , 0.        ,\n",
              "        0.        , 0.        , 0.        ],\n",
              "       [0.        , 0.        , 0.        , 0.        , 0.        ,\n",
              "        0.        , 0.        , 0.        , 0.        , 0.        ,\n",
              "        0.        , 0.        , 0.        , 0.        , 0.        ,\n",
              "        0.        , 0.        , 0.        , 0.        , 0.        ,\n",
              "        0.        , 0.        , 0.        , 0.        , 0.        ,\n",
              "        0.        , 0.        , 0.        ],\n",
              "       [0.        , 0.        , 0.        , 0.        , 0.        ,\n",
              "        0.        , 0.        , 0.        , 0.        , 0.        ,\n",
              "        0.        , 0.        , 0.        , 0.        , 0.        ,\n",
              "        0.        , 0.        , 0.        , 0.        , 0.        ,\n",
              "        0.        , 0.        , 0.        , 0.        , 0.        ,\n",
              "        0.        , 0.        , 0.        ],\n",
              "       [0.        , 0.        , 0.        , 0.        , 0.        ,\n",
              "        0.        , 0.        , 0.        , 0.        , 0.        ,\n",
              "        0.        , 0.        , 0.        , 0.        , 0.        ,\n",
              "        0.        , 0.        , 0.        , 0.        , 0.        ,\n",
              "        0.        , 0.        , 0.        , 0.        , 0.        ,\n",
              "        0.        , 0.        , 0.        ],\n",
              "       [0.        , 0.        , 0.        , 0.        , 0.        ,\n",
              "        0.        , 0.        , 0.        , 0.        , 0.        ,\n",
              "        0.        , 0.        , 0.        , 0.        , 0.        ,\n",
              "        0.        , 0.        , 0.        , 0.        , 0.        ,\n",
              "        0.        , 0.        , 0.        , 0.        , 0.        ,\n",
              "        0.        , 0.        , 0.        ],\n",
              "       [0.        , 0.        , 0.        , 0.        , 0.        ,\n",
              "        0.        , 0.        , 0.        , 0.        , 0.        ,\n",
              "        0.        , 0.        , 0.        , 0.        , 0.        ,\n",
              "        0.        , 0.        , 0.        , 0.        , 0.        ,\n",
              "        0.        , 0.        , 0.        , 0.        , 0.        ,\n",
              "        0.        , 0.        , 0.        ],\n",
              "       [0.        , 0.        , 0.        , 0.        , 0.        ,\n",
              "        0.        , 0.34058377, 0.55344342, 0.51591571, 0.47675838,\n",
              "        0.16790986, 0.06389561, 0.        , 0.        , 0.        ,\n",
              "        0.        , 0.        , 0.        , 0.        , 0.        ,\n",
              "        0.        , 0.        , 0.        , 0.        , 0.        ,\n",
              "        0.        , 0.        , 0.        ],\n",
              "       [0.        , 0.        , 0.        , 0.        , 0.        ,\n",
              "        0.        , 0.90011425, 0.75986285, 0.82416724, 0.80196443,\n",
              "        0.71081842, 0.42774558, 0.31460214, 0.29919608, 0.35451095,\n",
              "        0.35818467, 0.34876618, 0.33626817, 0.34967436, 0.335178  ,\n",
              "        0.37058415, 0.28257531, 0.        , 0.        , 0.        ,\n",
              "        0.        , 0.        , 0.        ],\n",
              "       [0.        , 0.        , 0.        , 0.        , 0.        ,\n",
              "        0.        , 0.2716561 , 0.34104081, 0.23362221, 0.35993679,\n",
              "        0.45615513, 0.40289729, 0.40358052, 0.33999555, 0.45477668,\n",
              "        0.45948942, 0.44740712, 0.42458103, 0.40442136, 0.42997581,\n",
              "        0.55369632, 0.76077969, 0.        , 0.        , 0.        ,\n",
              "        0.        , 0.        , 0.        ],\n",
              "       [0.        , 0.        , 0.        , 0.        , 0.        ,\n",
              "        0.        , 0.        , 0.        , 0.        , 0.        ,\n",
              "        0.        , 0.03017292, 0.10486738, 0.02115528, 0.11996078,\n",
              "        0.1212039 , 0.11801684, 0.10020112, 0.03708667, 0.39950509,\n",
              "        0.55369632, 0.57601891, 0.        , 0.        , 0.        ,\n",
              "        0.        , 0.        , 0.        ],\n",
              "       [0.        , 0.        , 0.        , 0.        , 0.        ,\n",
              "        0.        , 0.        , 0.        , 0.        , 0.        ,\n",
              "        0.        , 0.        , 0.        , 0.        , 0.        ,\n",
              "        0.        , 0.        , 0.        , 0.14658067, 0.42828299,\n",
              "        0.45560051, 0.09781453, 0.        , 0.        , 0.        ,\n",
              "        0.        , 0.        , 0.        ],\n",
              "       [0.        , 0.        , 0.        , 0.        , 0.        ,\n",
              "        0.        , 0.        , 0.        , 0.        , 0.        ,\n",
              "        0.        , 0.        , 0.        , 0.        , 0.        ,\n",
              "        0.        , 0.        , 0.03736313, 0.41148549, 0.43166863,\n",
              "        0.18093226, 0.        , 0.        , 0.        , 0.        ,\n",
              "        0.        , 0.        , 0.        ],\n",
              "       [0.        , 0.        , 0.        , 0.        , 0.        ,\n",
              "        0.        , 0.        , 0.        , 0.        , 0.        ,\n",
              "        0.        , 0.        , 0.        , 0.        , 0.        ,\n",
              "        0.        , 0.        , 0.21908381, 0.44857216, 0.40289072,\n",
              "        0.0959159 , 0.        , 0.        , 0.        , 0.        ,\n",
              "        0.        , 0.        , 0.        ],\n",
              "       [0.        , 0.        , 0.        , 0.        , 0.        ,\n",
              "        0.        , 0.        , 0.        , 0.        , 0.        ,\n",
              "        0.        , 0.        , 0.        , 0.        , 0.        ,\n",
              "        0.        , 0.10392528, 0.4228827 , 0.44857216, 0.10495473,\n",
              "        0.        , 0.        , 0.        , 0.        , 0.        ,\n",
              "        0.        , 0.        , 0.        ],\n",
              "       [0.        , 0.        , 0.        , 0.        , 0.        ,\n",
              "        0.        , 0.        , 0.        , 0.        , 0.        ,\n",
              "        0.        , 0.        , 0.        , 0.        , 0.        ,\n",
              "        0.        , 0.23427223, 0.43137432, 0.33024801, 0.00846409,\n",
              "        0.        , 0.        , 0.        , 0.        , 0.        ,\n",
              "        0.        , 0.        , 0.        ],\n",
              "       [0.        , 0.        , 0.        , 0.        , 0.        ,\n",
              "        0.        , 0.        , 0.        , 0.        , 0.        ,\n",
              "        0.        , 0.        , 0.        , 0.        , 0.        ,\n",
              "        0.01628112, 0.3610963 , 0.42118438, 0.10242986, 0.        ,\n",
              "        0.        , 0.        , 0.        , 0.        , 0.        ,\n",
              "        0.        , 0.        , 0.        ],\n",
              "       [0.        , 0.        , 0.        , 0.        , 0.        ,\n",
              "        0.        , 0.        , 0.        , 0.        , 0.        ,\n",
              "        0.        , 0.        , 0.        , 0.        , 0.        ,\n",
              "        0.2279357 , 0.44740712, 0.30909499, 0.        , 0.        ,\n",
              "        0.        , 0.        , 0.        , 0.        , 0.        ,\n",
              "        0.        , 0.        , 0.        ],\n",
              "       [0.        , 0.        , 0.        , 0.        , 0.        ,\n",
              "        0.        , 0.        , 0.        , 0.        , 0.        ,\n",
              "        0.        , 0.        , 0.        , 0.        , 0.13428445,\n",
              "        0.45406238, 0.42274688, 0.09680447, 0.        , 0.        ,\n",
              "        0.        , 0.        , 0.        , 0.        , 0.        ,\n",
              "        0.        , 0.        , 0.        ],\n",
              "       [0.        , 0.        , 0.        , 0.        , 0.        ,\n",
              "        0.        , 0.        , 0.        , 0.        , 0.        ,\n",
              "        0.        , 0.        , 0.        , 0.02871073, 0.39569152,\n",
              "        0.45948942, 0.29239993, 0.        , 0.        , 0.        ,\n",
              "        0.        , 0.        , 0.        , 0.        , 0.        ,\n",
              "        0.        , 0.        , 0.        ],\n",
              "       [0.        , 0.        , 0.        , 0.        , 0.        ,\n",
              "        0.        , 0.        , 0.        , 0.        , 0.        ,\n",
              "        0.        , 0.        , 0.0047667 , 0.30675154, 0.45477668,\n",
              "        0.39617395, 0.06165059, 0.        , 0.        , 0.        ,\n",
              "        0.        , 0.        , 0.        , 0.        , 0.        ,\n",
              "        0.        , 0.        , 0.        ],\n",
              "       [0.        , 0.        , 0.        , 0.        , 0.        ,\n",
              "        0.        , 0.        , 0.        , 0.        , 0.        ,\n",
              "        0.        , 0.        , 0.06037819, 0.38381719, 0.45477668,\n",
              "        0.13929404, 0.        , 0.        , 0.        , 0.        ,\n",
              "        0.        , 0.        , 0.        , 0.        , 0.        ,\n",
              "        0.        , 0.        , 0.        ],\n",
              "       [0.        , 0.        , 0.        , 0.        , 0.        ,\n",
              "        0.        , 0.        , 0.        , 0.        , 0.        ,\n",
              "        0.        , 0.05502122, 0.35591353, 0.38381719, 0.20590283,\n",
              "        0.00180901, 0.        , 0.        , 0.        , 0.        ,\n",
              "        0.        , 0.        , 0.        , 0.        , 0.        ,\n",
              "        0.        , 0.        , 0.        ],\n",
              "       [0.        , 0.        , 0.        , 0.        , 0.        ,\n",
              "        0.        , 0.        , 0.        , 0.        , 0.        ,\n",
              "        0.        , 0.23605877, 0.40358052, 0.38381719, 0.09310389,\n",
              "        0.        , 0.        , 0.        , 0.        , 0.        ,\n",
              "        0.        , 0.        , 0.        , 0.        , 0.        ,\n",
              "        0.        , 0.        , 0.        ],\n",
              "       [0.        , 0.        , 0.        , 0.        , 0.        ,\n",
              "        0.        , 0.        , 0.        , 0.        , 0.        ,\n",
              "        0.17070836, 0.42952046, 0.40358052, 0.38381719, 0.09310389,\n",
              "        0.        , 0.        , 0.        , 0.        , 0.        ,\n",
              "        0.        , 0.        , 0.        , 0.        , 0.        ,\n",
              "        0.        , 0.        , 0.        ],\n",
              "       [0.        , 0.        , 0.        , 0.        , 0.        ,\n",
              "        0.        , 0.        , 0.        , 0.        , 0.        ,\n",
              "        0.33861822, 0.450819  , 0.40358052, 0.330929  , 0.07161837,\n",
              "        0.        , 0.        , 0.        , 0.        , 0.        ,\n",
              "        0.        , 0.        , 0.        , 0.        , 0.        ,\n",
              "        0.        , 0.        , 0.        ],\n",
              "       [0.        , 0.        , 0.        , 0.        , 0.        ,\n",
              "        0.        , 0.        , 0.        , 0.        , 0.        ,\n",
              "        0.33861822, 0.450819  , 0.32890224, 0.02719964, 0.        ,\n",
              "        0.        , 0.        , 0.        , 0.        , 0.        ,\n",
              "        0.        , 0.        , 0.        , 0.        , 0.        ,\n",
              "        0.        , 0.        , 0.        ],\n",
              "       [0.        , 0.        , 0.        , 0.        , 0.        ,\n",
              "        0.        , 0.        , 0.        , 0.        , 0.        ,\n",
              "        0.        , 0.        , 0.        , 0.        , 0.        ,\n",
              "        0.        , 0.        , 0.        , 0.        , 0.        ,\n",
              "        0.        , 0.        , 0.        , 0.        , 0.        ,\n",
              "        0.        , 0.        , 0.        ]])"
            ]
          },
          "metadata": {},
          "execution_count": 51
        }
      ]
    },
    {
      "cell_type": "code",
      "source": [],
      "metadata": {
        "id": "1QcjfNsfeYdI"
      },
      "execution_count": 51,
      "outputs": []
    },
    {
      "cell_type": "code",
      "source": [
        "x_train_100 = new_model.predict([x_train])"
      ],
      "metadata": {
        "colab": {
          "base_uri": "https://localhost:8080/"
        },
        "id": "ixWWw0qoeF9Y",
        "outputId": "caab7440-9a31-4c23-92ae-bef69589ff02"
      },
      "execution_count": 52,
      "outputs": [
        {
          "output_type": "stream",
          "name": "stdout",
          "text": [
            "\u001b[1m1875/1875\u001b[0m \u001b[32m━━━━━━━━━━━━━━━━━━━━\u001b[0m\u001b[37m\u001b[0m \u001b[1m6s\u001b[0m 3ms/step\n"
          ]
        }
      ]
    },
    {
      "cell_type": "code",
      "source": [
        "x_train_100_pred = new_model.predict(np.expand_dims(x_train[100], axis=0))"
      ],
      "metadata": {
        "colab": {
          "base_uri": "https://localhost:8080/"
        },
        "id": "BCxCkg6YfF4H",
        "outputId": "52577a1c-fcff-45c1-d9dd-c7ae717eef27"
      },
      "execution_count": 54,
      "outputs": [
        {
          "output_type": "stream",
          "name": "stdout",
          "text": [
            "\u001b[1m1/1\u001b[0m \u001b[32m━━━━━━━━━━━━━━━━━━━━\u001b[0m\u001b[37m\u001b[0m \u001b[1m0s\u001b[0m 36ms/step\n"
          ]
        }
      ]
    },
    {
      "cell_type": "code",
      "source": [
        "x_train_100_pred.argmax()"
      ],
      "metadata": {
        "colab": {
          "base_uri": "https://localhost:8080/"
        },
        "id": "rsj7Nhc9evCN",
        "outputId": "7bea292f-70cb-4ca2-d795-635201dc2a0e"
      },
      "execution_count": 55,
      "outputs": [
        {
          "output_type": "execute_result",
          "data": {
            "text/plain": [
              "5"
            ]
          },
          "metadata": {},
          "execution_count": 55
        }
      ]
    },
    {
      "cell_type": "code",
      "source": [
        "print(predictions)"
      ],
      "metadata": {
        "colab": {
          "base_uri": "https://localhost:8080/"
        },
        "id": "dAPxhc2-Xvpn",
        "outputId": "775be03e-cb59-4274-e19a-cc75b9b22fae"
      },
      "execution_count": 56,
      "outputs": [
        {
          "output_type": "stream",
          "name": "stdout",
          "text": [
            "[[3.9974948e-09 7.6306847e-08 7.3323659e-05 ... 9.9910092e-01\n",
            "  3.0163454e-07 9.9689314e-06]\n",
            " [8.2317007e-09 1.9262882e-04 9.9980474e-01 ... 2.3127944e-11\n",
            "  3.0281205e-07 1.1268684e-09]\n",
            " [1.9307154e-06 9.9952084e-01 1.8121149e-05 ... 1.5298201e-04\n",
            "  2.1521172e-04 5.8834912e-06]\n",
            " ...\n",
            " [2.9261975e-09 1.1962255e-06 4.8365191e-08 ... 8.5160387e-04\n",
            "  5.8491895e-07 3.2757473e-04]\n",
            " [6.4532751e-06 8.6655555e-06 2.7056037e-06 ... 4.0618732e-04\n",
            "  1.2755113e-03 3.5988703e-07]\n",
            " [3.9172537e-07 6.6050980e-08 8.0560512e-06 ... 1.2412682e-10\n",
            "  5.3011334e-08 7.0980142e-09]]\n"
          ]
        }
      ]
    },
    {
      "cell_type": "code",
      "source": [
        "predictions[0]"
      ],
      "metadata": {
        "colab": {
          "base_uri": "https://localhost:8080/"
        },
        "id": "jGOsJt34vUu4",
        "outputId": "0225539c-7bfa-4620-effc-ac665e55577c"
      },
      "execution_count": 57,
      "outputs": [
        {
          "output_type": "execute_result",
          "data": {
            "text/plain": [
              "array([3.9974948e-09, 7.6306847e-08, 7.3323659e-05, 8.1426505e-04,\n",
              "       9.2800073e-11, 1.0604441e-06, 8.0110836e-16, 9.9910092e-01,\n",
              "       3.0163454e-07, 9.9689314e-06], dtype=float32)"
            ]
          },
          "metadata": {},
          "execution_count": 57
        }
      ]
    },
    {
      "cell_type": "code",
      "source": [
        "np.argmax(predictions[0])"
      ],
      "metadata": {
        "colab": {
          "base_uri": "https://localhost:8080/"
        },
        "id": "9IjMNPw2vkAT",
        "outputId": "c7dd60f5-fa62-43d9-a73e-7d9dccc07a9b"
      },
      "execution_count": 58,
      "outputs": [
        {
          "output_type": "execute_result",
          "data": {
            "text/plain": [
              "7"
            ]
          },
          "metadata": {},
          "execution_count": 58
        }
      ]
    },
    {
      "cell_type": "code",
      "source": [
        "outputs = []\n",
        "for prediction in predictions:\n",
        "  outputs.append(np.argmax(prediction))"
      ],
      "metadata": {
        "collapsed": true,
        "id": "kRseiPAvXvmd"
      },
      "execution_count": 59,
      "outputs": []
    },
    {
      "cell_type": "code",
      "source": [
        "outputs[0], outputs[100]"
      ],
      "metadata": {
        "colab": {
          "base_uri": "https://localhost:8080/"
        },
        "id": "01DvMkGLXvkW",
        "outputId": "b97b291f-0a6d-4463-a502-f127533d3f1f"
      },
      "execution_count": null,
      "outputs": [
        {
          "output_type": "execute_result",
          "data": {
            "text/plain": [
              "(7, 6)"
            ]
          },
          "metadata": {},
          "execution_count": 24
        }
      ]
    },
    {
      "cell_type": "code",
      "source": [
        "for i, (yi, output) in enumerate(zip(y_test, outputs)):\n",
        "  if yi != output:\n",
        "    print(i, yi, output)"
      ],
      "metadata": {
        "colab": {
          "base_uri": "https://localhost:8080/"
        },
        "id": "6Irt9yXLwNju",
        "outputId": "dcb283b0-0ebc-4670-9ef7-9b8947731c27"
      },
      "execution_count": 60,
      "outputs": [
        {
          "output_type": "stream",
          "name": "stdout",
          "text": [
            "62 9 8\n",
            "115 4 9\n",
            "151 9 8\n",
            "217 6 5\n",
            "247 4 2\n",
            "259 6 0\n",
            "320 9 8\n",
            "321 2 7\n",
            "340 5 3\n",
            "391 8 2\n",
            "406 5 9\n",
            "425 4 2\n",
            "445 6 0\n",
            "448 9 8\n",
            "495 8 2\n",
            "582 8 2\n",
            "610 4 6\n",
            "613 2 8\n",
            "619 1 8\n",
            "684 7 3\n",
            "691 8 7\n",
            "717 0 6\n",
            "720 5 8\n",
            "740 4 9\n",
            "760 4 9\n",
            "844 8 7\n",
            "866 5 8\n",
            "947 8 9\n",
            "982 3 2\n",
            "1014 6 5\n",
            "1039 7 2\n",
            "1044 6 8\n",
            "1112 4 6\n",
            "1114 3 8\n",
            "1147 4 7\n",
            "1157 4 7\n",
            "1173 7 9\n",
            "1178 4 0\n",
            "1181 6 1\n",
            "1182 6 8\n",
            "1194 7 9\n",
            "1226 7 2\n",
            "1232 9 4\n",
            "1242 4 9\n",
            "1247 9 3\n",
            "1253 4 6\n",
            "1290 3 5\n",
            "1319 8 3\n",
            "1378 5 6\n",
            "1393 5 3\n",
            "1414 9 7\n",
            "1466 5 3\n",
            "1500 7 1\n",
            "1522 7 9\n",
            "1527 1 5\n",
            "1530 8 7\n",
            "1549 4 6\n",
            "1553 9 3\n",
            "1609 2 6\n",
            "1611 3 5\n",
            "1670 5 3\n",
            "1681 3 7\n",
            "1721 7 9\n",
            "1751 4 2\n",
            "1754 7 2\n",
            "1790 2 7\n",
            "1878 8 3\n",
            "1901 9 4\n",
            "1941 7 2\n",
            "1952 9 8\n",
            "1982 6 5\n",
            "1984 2 0\n",
            "1987 0 9\n",
            "2018 1 7\n",
            "2052 8 4\n",
            "2093 8 1\n",
            "2098 2 0\n",
            "2109 3 7\n",
            "2118 6 0\n",
            "2129 9 8\n",
            "2130 4 9\n",
            "2135 6 1\n",
            "2145 4 2\n",
            "2162 5 8\n",
            "2174 3 5\n",
            "2182 1 2\n",
            "2272 8 0\n",
            "2293 9 0\n",
            "2369 5 9\n",
            "2371 4 9\n",
            "2387 9 1\n",
            "2406 9 1\n",
            "2414 9 4\n",
            "2422 6 7\n",
            "2433 2 1\n",
            "2454 6 8\n",
            "2514 4 9\n",
            "2526 5 3\n",
            "2607 7 1\n",
            "2618 3 5\n",
            "2648 9 0\n",
            "2654 6 1\n",
            "2705 1 8\n",
            "2720 9 4\n",
            "2743 5 8\n",
            "2760 9 4\n",
            "2770 3 7\n",
            "2810 5 3\n",
            "2896 8 0\n",
            "2915 7 3\n",
            "2921 3 2\n",
            "2927 3 2\n",
            "2939 9 7\n",
            "2945 3 9\n",
            "2953 3 5\n",
            "2970 5 3\n",
            "2990 8 9\n",
            "2995 6 8\n",
            "3030 6 8\n",
            "3060 9 7\n",
            "3073 1 2\n",
            "3100 5 3\n",
            "3117 5 9\n",
            "3172 4 9\n",
            "3251 0 9\n",
            "3289 8 3\n",
            "3422 6 0\n",
            "3457 1 6\n",
            "3503 9 1\n",
            "3520 6 4\n",
            "3542 4 2\n",
            "3549 3 2\n",
            "3558 5 0\n",
            "3559 8 5\n",
            "3565 5 8\n",
            "3597 9 3\n",
            "3604 7 2\n",
            "3662 8 0\n",
            "3681 2 3\n",
            "3716 9 3\n",
            "3718 4 9\n",
            "3751 7 2\n",
            "3757 8 3\n",
            "3762 6 8\n",
            "3776 5 8\n",
            "3778 5 2\n",
            "3780 4 6\n",
            "3789 1 8\n",
            "3796 2 8\n",
            "3808 7 3\n",
            "3811 2 3\n",
            "3853 6 2\n",
            "3893 5 6\n",
            "3902 5 3\n",
            "3906 1 2\n",
            "3926 9 3\n",
            "3941 4 2\n",
            "3943 3 5\n",
            "3985 9 4\n",
            "3995 3 5\n",
            "4000 9 8\n",
            "4065 0 8\n",
            "4075 8 3\n",
            "4078 9 3\n",
            "4093 9 4\n",
            "4151 7 9\n",
            "4163 9 0\n",
            "4176 2 7\n",
            "4199 7 9\n",
            "4211 6 5\n",
            "4224 9 7\n",
            "4255 5 3\n",
            "4271 5 3\n",
            "4289 2 7\n",
            "4294 9 7\n",
            "4306 3 7\n",
            "4356 5 8\n",
            "4360 5 3\n",
            "4374 5 6\n",
            "4443 3 2\n",
            "4497 8 7\n",
            "4500 9 1\n",
            "4536 6 5\n",
            "4547 6 2\n",
            "4571 6 0\n",
            "4575 4 2\n",
            "4601 8 4\n",
            "4639 8 9\n",
            "4731 8 7\n",
            "4807 8 3\n",
            "4814 6 0\n",
            "4823 9 6\n",
            "4860 4 9\n",
            "4880 0 8\n",
            "4942 5 9\n",
            "4956 8 4\n",
            "4990 3 2\n",
            "5140 3 4\n",
            "5201 4 9\n",
            "5331 1 6\n",
            "5457 1 8\n",
            "5594 1 8\n",
            "5600 7 9\n",
            "5642 1 8\n",
            "5734 3 7\n",
            "5749 8 2\n",
            "5842 4 7\n",
            "5877 6 0\n",
            "5887 7 0\n",
            "5888 4 2\n",
            "5922 5 3\n",
            "5926 4 9\n",
            "5937 5 3\n",
            "5955 3 8\n",
            "5973 3 8\n",
            "5981 5 9\n",
            "5982 5 3\n",
            "6370 3 2\n",
            "6421 3 2\n",
            "6505 9 0\n",
            "6555 8 9\n",
            "6557 0 2\n",
            "6560 9 4\n",
            "6568 9 4\n",
            "6574 2 6\n",
            "6597 0 9\n",
            "6603 8 7\n",
            "6608 9 5\n",
            "6651 0 5\n",
            "6783 1 6\n",
            "7216 0 3\n",
            "7338 4 9\n",
            "7394 4 9\n",
            "7432 7 2\n",
            "7434 4 8\n",
            "7595 3 8\n",
            "7800 3 2\n",
            "7821 3 2\n",
            "7876 2 4\n",
            "7886 2 4\n",
            "7921 8 7\n",
            "7964 9 8\n",
            "8020 1 8\n",
            "8062 5 8\n",
            "8094 2 8\n",
            "8198 2 4\n",
            "8311 6 4\n",
            "8325 0 6\n",
            "8406 4 9\n",
            "8493 1 8\n",
            "8509 1 8\n",
            "8519 7 3\n",
            "8522 8 6\n",
            "8952 3 9\n",
            "9009 7 2\n",
            "9015 7 2\n",
            "9022 3 2\n",
            "9024 7 2\n",
            "9071 1 8\n",
            "9203 4 9\n",
            "9211 4 9\n",
            "9253 4 5\n",
            "9280 8 5\n",
            "9422 5 3\n",
            "9482 5 3\n",
            "9497 9 8\n",
            "9538 4 7\n",
            "9540 1 8\n",
            "9587 9 4\n",
            "9634 0 3\n",
            "9664 2 7\n",
            "9679 6 3\n",
            "9700 2 8\n",
            "9716 2 3\n",
            "9719 5 0\n",
            "9729 5 6\n",
            "9745 4 0\n",
            "9755 8 5\n",
            "9764 4 9\n",
            "9768 2 0\n",
            "9770 5 0\n",
            "9779 2 0\n",
            "9782 6 5\n",
            "9792 4 7\n",
            "9811 2 8\n",
            "9839 2 3\n",
            "9892 8 5\n",
            "9904 2 0\n",
            "9944 3 8\n",
            "9982 5 6\n"
          ]
        }
      ]
    },
    {
      "cell_type": "code",
      "source": [
        "plt.imshow(x_test[18], cmap=\"grey\")\n",
        "print(f\"Actual: {y_test[18]}\")\n",
        "print(f\"Predicted: {outputs[18]}\")"
      ],
      "metadata": {
        "colab": {
          "base_uri": "https://localhost:8080/",
          "height": 465
        },
        "id": "rlxj7IzfgfyY",
        "outputId": "7b802778-5e58-4b72-ab7b-6e5dce20372e"
      },
      "execution_count": 61,
      "outputs": [
        {
          "output_type": "stream",
          "name": "stdout",
          "text": [
            "Actual: 3\n",
            "Predicted: 3\n"
          ]
        },
        {
          "output_type": "display_data",
          "data": {
            "text/plain": [
              "<Figure size 640x480 with 1 Axes>"
            ],
            "image/png": "[encoded data removed]"
          },
          "metadata": {}
        }
      ]
    },
    {
      "cell_type": "code",
      "source": [
        "plt.imshow(x_test[965], cmap=\"grey\")\n",
        "print(f\"Actual: {y_test[965]}\")\n",
        "print(f\"Predicted: {outputs[965]}\")"
      ],
      "metadata": {
        "colab": {
          "base_uri": "https://localhost:8080/",
          "height": 465
        },
        "id": "At0bJ8f6g-4C",
        "outputId": "a56a338a-c9f6-456a-92be-3ed9fe329ae6"
      },
      "execution_count": 62,
      "outputs": [
        {
          "output_type": "stream",
          "name": "stdout",
          "text": [
            "Actual: 6\n",
            "Predicted: 6\n"
          ]
        },
        {
          "output_type": "display_data",
          "data": {
            "text/plain": [
              "<Figure size 640x480 with 1 Axes>"
            ],
            "image/png": "[encoded data removed]"
          },
          "metadata": {}
        }
      ]
    },
    {
      "cell_type": "code",
      "source": [
        "plt.imshow(x_test[115], cmap=\"grey\")\n",
        "plt.show()\n",
        "print(f\"Actual: {y_test[115]}\")\n",
        "print(f\"Predicted: {outputs[115]}\")"
      ],
      "metadata": {
        "colab": {
          "base_uri": "https://localhost:8080/",
          "height": 465
        },
        "id": "VDQFo1lbhFiV",
        "outputId": "204d24a0-faab-47b3-e5ec-ce57a7f2d2c5"
      },
      "execution_count": 64,
      "outputs": [
        {
          "output_type": "display_data",
          "data": {
            "text/plain": [
              "<Figure size 640x480 with 1 Axes>"
            ],
            "image/png": "[encoded data removed]"
          },
          "metadata": {}
        },
        {
          "output_type": "stream",
          "name": "stdout",
          "text": [
            "Actual: 4\n",
            "Predicted: 9\n"
          ]
        }
      ]
    },
    {
      "cell_type": "code",
      "source": [
        "plt.imshow(x_test[448], cmap=\"grey\")\n",
        "print(f\"Actual: {y_test[448]}\")\n",
        "print(f\"Predicted: {outputs[448]}\")"
      ],
      "metadata": {
        "colab": {
          "base_uri": "https://localhost:8080/",
          "height": 465
        },
        "id": "e9En-WdIkQFk",
        "outputId": "6b929104-a7bd-4c3e-b482-1b3777e21d40"
      },
      "execution_count": 65,
      "outputs": [
        {
          "output_type": "stream",
          "name": "stdout",
          "text": [
            "Actual: 9\n",
            "Predicted: 8\n"
          ]
        },
        {
          "output_type": "display_data",
          "data": {
            "text/plain": [
              "<Figure size 640x480 with 1 Axes>"
            ],
            "image/png": "[encoded data removed]"
          },
          "metadata": {}
        }
      ]
    },
    {
      "cell_type": "code",
      "source": [],
      "metadata": {
        "id": "8xBoy7ALkxrZ"
      },
      "execution_count": null,
      "outputs": []
    }
  ]
}