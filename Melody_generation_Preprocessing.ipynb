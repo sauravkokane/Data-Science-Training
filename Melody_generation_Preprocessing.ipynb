{
  "cells": [
    {
      "cell_type": "markdown",
      "metadata": {
        "id": "view-in-github",
        "colab_type": "text"
      },
      "source": [
        "<a href=\"https://colab.research.google.com/github/sauravkokane/Data-Science-Training/blob/master/Melody_generation_Preprocessing.ipynb\" target=\"_parent\"><img src=\"https://colab.research.google.com/assets/colab-badge.svg\" alt=\"Open In Colab\"/></a>"
      ]
    },
    {
      "cell_type": "markdown",
      "source": [
        "## Connect to google drive"
      ],
      "metadata": {
        "id": "n3CgbM0q_J1T"
      }
    },
    {
      "cell_type": "code",
      "execution_count": 1,
      "metadata": {
        "colab": {
          "base_uri": "https://localhost:8080/"
        },
        "id": "7c5NK0vqt4cc",
        "outputId": "9605489a-bcfd-4cc0-c173-5de92f2adab8"
      },
      "outputs": [
        {
          "output_type": "stream",
          "name": "stdout",
          "text": [
            "Drive already mounted at /content/drive; to attempt to forcibly remount, call drive.mount(\"/content/drive\", force_remount=True).\n"
          ]
        }
      ],
      "source": [
        "from google.colab import drive\n",
        "drive.mount('/content/drive')"
      ]
    },
    {
      "cell_type": "markdown",
      "source": [
        "## Load Nessessary Libraries"
      ],
      "metadata": {
        "id": "HO5o3tc__RY1"
      }
    },
    {
      "cell_type": "code",
      "execution_count": 1,
      "metadata": {
        "id": "8HPPkYkOTBQq"
      },
      "outputs": [],
      "source": [
        "import random\n",
        "import json\n",
        "import pickle"
      ]
    },
    {
      "cell_type": "code",
      "execution_count": 3,
      "metadata": {
        "id": "_pMxkf6yyvqC"
      },
      "outputs": [],
      "source": [
        "import os\n",
        "import music21 as m21"
      ]
    },
    {
      "cell_type": "code",
      "execution_count": 4,
      "metadata": {
        "id": "daU_7Jt9yvXH"
      },
      "outputs": [],
      "source": [
        "import numpy as np\n",
        "import pandas as pd\n",
        "import tensorflow.keras as keras\n",
        "import matplotlib.pyplot as plt"
      ]
    },
    {
      "cell_type": "markdown",
      "source": [
        "## File Paths"
      ],
      "metadata": {
        "id": "iNKSUh23CNJp"
      }
    },
    {
      "cell_type": "code",
      "execution_count": 5,
      "metadata": {
        "id": "zJPJoeTst4Zk"
      },
      "outputs": [],
      "source": [
        "KERN_DATASET_PATH = \"/content/drive/MyDrive/Datasets/essen\"\n",
        "DATASET_PATH = \"/content/drive/MyDrive/Datasets/Melody_Dataset\""
      ]
    },
    {
      "cell_type": "code",
      "source": [
        "FILE_DATASET_PATH = \"/content/drive/MyDrive/Datasets/Melody Generation/file_dataset.txt\"\n",
        "MAPPING_PATH = \"/content/drive/MyDrive/Datasets/Melody Generation/mapping.json\"\n",
        "DELIMETER = \"/ \"\n",
        "SEQUENCE_LENGTH = 64"
      ],
      "metadata": {
        "id": "YQJuqixjZCoQ"
      },
      "execution_count": 6,
      "outputs": []
    },
    {
      "cell_type": "code",
      "source": [
        "# Inputs and outputs saving paths (pickle files)\n",
        "TRAINING_INPUT_PATH = \"/content/drive/MyDrive/Datasets/Melody Generation/songs_inputs.pkl\"\n",
        "TRAINING_ONE_HOT_ENCODED_INPUT_PATH = \"/content/drive/MyDrive/Datasets/Melody Generation/one_hot_inputs.pkl\"\n",
        "TRAINING_TARGET_PATH = \"/content/drive/MyDrive/Datasets/Melody Generation/songs_targets.pkl\""
      ],
      "metadata": {
        "id": "8zSFirK7_gP0"
      },
      "execution_count": 2,
      "outputs": []
    },
    {
      "cell_type": "code",
      "execution_count": null,
      "metadata": {
        "id": "GoWnhhfx4omW"
      },
      "outputs": [],
      "source": [
        "TEST_PATH = \"/content/drive/MyDrive/Datasets/essen/europa/deutschl/test\""
      ]
    },
    {
      "cell_type": "code",
      "execution_count": null,
      "metadata": {
        "id": "Dc5N6MdWKGoX"
      },
      "outputs": [],
      "source": [
        "ACCEPTABLE_DURATIONS = [\n",
        "    0.25,    # 16th Note\n",
        "    0.5,     # 8th note\n",
        "    0.75,    # dotted note\n",
        "    1.0,     # quarter note\n",
        "    1.5,     # dotted quarter note\n",
        "    2,       # half note\n",
        "    3,       # three quarter notes\n",
        "    4        # full note\n",
        "]"
      ]
    },
    {
      "cell_type": "code",
      "execution_count": null,
      "metadata": {
        "colab": {
          "base_uri": "https://localhost:8080/"
        },
        "id": "G6v8SgWdBJiY",
        "outputId": "a1ca8fe2-0db1-4697-9572-f482a1db0b9a"
      },
      "outputs": [
        {
          "output_type": "execute_result",
          "data": {
            "text/plain": [
              "['deut5153.krn',\n",
              " 'deut5152.krn',\n",
              " 'deut5155.krn',\n",
              " 'deut5156.krn',\n",
              " 'deut5157.krn',\n",
              " 'deut5147.krn',\n",
              " 'deut5146.krn',\n",
              " 'deut5148.krn',\n",
              " 'deut5150.krn',\n",
              " 'deut5151.krn',\n",
              " 'deut5149.krn',\n",
              " 'deut5154.krn',\n",
              " 'CKSUM']"
            ]
          },
          "metadata": {},
          "execution_count": 9
        }
      ],
      "source": [
        "os.listdir(TEST_PATH)"
      ]
    },
    {
      "cell_type": "markdown",
      "source": [
        "## Preprocessing functions"
      ],
      "metadata": {
        "id": "-tWekI4LCSDr"
      }
    },
    {
      "cell_type": "code",
      "execution_count": null,
      "metadata": {
        "id": "0YtRYOYlys1g"
      },
      "outputs": [],
      "source": [
        "def load_songs_in_kern(dataset_path):\n",
        "    # go through all files in dataset and load them using music21\n",
        "    songs = []\n",
        "    for path, subdirs, files in os.walk(dataset_path):\n",
        "        for file in files:\n",
        "            if file[-3:] == \"krn\":\n",
        "                song = m21.converter.parse(os.path.join(path, file))\n",
        "                songs.append(song)\n",
        "    return songs\n"
      ]
    },
    {
      "cell_type": "code",
      "execution_count": null,
      "metadata": {
        "id": "x0URGWq-R-QJ"
      },
      "outputs": [],
      "source": [
        "def has_acceptable_duration(song:m21.stream.base.Score, acceptable_durations:list):\n",
        "    for note in song.flatten().notesAndRests:\n",
        "        if note.duration.quarterLength not in acceptable_durations:\n",
        "            return False\n",
        "    return True"
      ]
    },
    {
      "cell_type": "code",
      "execution_count": null,
      "metadata": {
        "id": "M2OZKpHCsL-_"
      },
      "outputs": [],
      "source": [
        "def transpose(song: m21.stream.base.Score):\n",
        "    # get key from the score\n",
        "    try:\n",
        "        parts = song.getElementsByClass(m21.stream.Part)\n",
        "        measure0 = parts[0].getElementsByClass(m21.stream.Measure)\n",
        "        key = measure0[0][4]\n",
        "    except IndexError:\n",
        "        key =  song.analyze(\"key\")\n",
        "\n",
        "    # Predict key using music21 if key is not present in first measure\n",
        "    if not isinstance(key, m21.key.Key):\n",
        "        key =  song.analyze(\"key\")\n",
        "\n",
        "    # get interval for transposition\n",
        "    if key.mode == \"major\":\n",
        "        interval = m21.interval.Interval(key.tonic, m21.pitch.Pitch(\"C\"))\n",
        "    elif key.mode == \"minor\":\n",
        "        interval = m21.interval.Interval(key.tonic, m21.pitch.Pitch(\"A\"))\n",
        "\n",
        "    # Transpose the song by calculated interval\n",
        "    transposed_song = song.transpose(interval)\n",
        "    return transposed_song"
      ]
    },
    {
      "cell_type": "code",
      "execution_count": null,
      "metadata": {
        "id": "IkR1xeBpIs95"
      },
      "outputs": [],
      "source": [
        "def encode(song, time_step=0.25):\n",
        "    # p = 60, d= 1.0 => [60, \"_\", \"_\", \"_\"]\n",
        "    encoded_song = []\n",
        "    for event in song.flatten().notesAndRests:\n",
        "        # handle notes\n",
        "        if isinstance(event, m21.note.Note):\n",
        "            symbol = event.pitch.midi   # 60\n",
        "\n",
        "        # handle rests\n",
        "        elif isinstance(event, m21.note.Rest):\n",
        "            symbol = \"r\"\n",
        "\n",
        "        # convert the note/rest into time series notation\n",
        "        steps = int(event.duration.quarterLength // time_step)\n",
        "\n",
        "        for step in range(steps):\n",
        "            if step==0:\n",
        "                encoded_song.append(symbol)\n",
        "            else:\n",
        "                encoded_song.append(\"_\")\n",
        "    # change encoded song from list to string\n",
        "    encoded_song = \" \".join(map(str, encoded_song))\n",
        "    return encoded_song"
      ]
    },
    {
      "cell_type": "code",
      "execution_count": null,
      "metadata": {
        "id": "Dw1uwIPYt4WA"
      },
      "outputs": [],
      "source": [
        "def preprocess(dataset_path):\n",
        "    # Load the Folk songs\n",
        "    print(\"Song Loading is started\")\n",
        "    loaded_songs = load_songs_in_kern(dataset_path)\n",
        "    print(f\"Loaded {len(loaded_songs)} songs.\")\n",
        "\n",
        "    for i, song in enumerate(loaded_songs):\n",
        "\n",
        "        # Filter out the songs which have unacceptable length\n",
        "        if not has_acceptable_duration(song, ACCEPTABLE_DURATIONS):\n",
        "            continue\n",
        "        try:\n",
        "            # Transpose songs to C Major / A Minor scale\n",
        "            transposed_song = transpose(song)\n",
        "\n",
        "            # Encode songs with music time series representation\n",
        "            encoded_song = encode(transposed_song)\n",
        "\n",
        "            # Save songs in a text file\n",
        "            save_path = os.path.join(DATASET_PATH, str(i))\n",
        "            with open(save_path, \"w\") as f:\n",
        "                f.write(encoded_song)\n",
        "        except:\n",
        "            pass"
      ]
    },
    {
      "cell_type": "code",
      "execution_count": null,
      "metadata": {
        "id": "6KdSSTC83mYw"
      },
      "outputs": [],
      "source": [
        "# preprocess(KERN_DATASET_PATH)"
      ]
    },
    {
      "cell_type": "code",
      "source": [
        "def load_encoded_song(file_path):\n",
        "    with open(file_path, \"r\") as file:\n",
        "        song = file.read()\n",
        "    return song"
      ],
      "metadata": {
        "id": "DHKePwnbmEyy"
      },
      "execution_count": null,
      "outputs": []
    },
    {
      "cell_type": "code",
      "execution_count": null,
      "metadata": {
        "id": "3jVsg7N1t4Cr"
      },
      "outputs": [],
      "source": [
        "def create_single_file_dataset(dataset_path, full_dataset_file_path, delimiter, sequence_length):\n",
        "    \"\"\"\n",
        "    Loads all the songs in the dataset_path, adds a song delimiter (delimiter * sequence_length) after each song, and saves the songs in a single file located at full_dataset_file_path.\n",
        "\n",
        "    Parameters\n",
        "    ----------\n",
        "    dataset_path : str\n",
        "        The path to the root directory of the dataset containing songs to be processed.\n",
        "    full_dataset_file_path : str\n",
        "        The path to the file that will contain the whole dataset.\n",
        "    delimiter : str\n",
        "        The delimiter that will be used to separate the songs in the single file.\n",
        "    sequence_length : int\n",
        "        The length of the sequence that will be used to separate the songs in the single file.\n",
        "\n",
        "    Returns\n",
        "    -------\n",
        "    str\n",
        "        The string containing the songs and the delimiters.\n",
        "    \"\"\"\n",
        "    song_delimiter = delimiter * sequence_length\n",
        "    songs = []\n",
        "    number_of_songs = 0\n",
        "    for path, _, files in os.walk(dataset_path):\n",
        "        for file in files:\n",
        "            file_path = os.path.join(path, file)\n",
        "            song = load_encoded_song(file_path)\n",
        "            songs.append(song)\n",
        "            number_of_songs += 1\n",
        "    print(f\"Loaded {number_of_songs} songs.\")\n",
        "\n",
        "    songs_str = ' '.join(songs + [song_delimiter])\n",
        "\n",
        "    with open(full_dataset_file_path, 'w') as f:\n",
        "        f.write(songs_str)\n",
        "\n",
        "    return songs_str"
      ]
    },
    {
      "cell_type": "code",
      "execution_count": null,
      "metadata": {
        "id": "EM4yp-D-t3_j"
      },
      "outputs": [],
      "source": [
        "def create_mapping(songs, mapping_file_path):\n",
        "\n",
        "    \"\"\"\n",
        "    Creates a mapping from unique symbols in the songs to numeric indices and saves it to a file.\n",
        "\n",
        "    This function identifies the unique vocabulary of symbols (e.g., notes, rests) in the provided\n",
        "    songs, assigns each symbol a unique integer index, and saves this mapping to a specified JSON file.\n",
        "\n",
        "    Parameters\n",
        "    ----------\n",
        "    songs : str\n",
        "        A string representing a sequence of encoded songs, with symbols separated by spaces.\n",
        "    mapping_file_path : str\n",
        "        The file path where the mapping of symbols to indices will be saved in JSON format.\n",
        "\n",
        "    Returns\n",
        "    -------\n",
        "    dict\n",
        "        A dictionary where keys are symbols from the songs and values are their corresponding indices.\n",
        "    \"\"\"\n",
        "\n",
        "    mappings = {}\n",
        "\n",
        "    # identify the vocabulary\n",
        "    songs = songs.split()\n",
        "    vocabulary = list(set(songs))\n",
        "\n",
        "    for i, note in enumerate(vocabulary):\n",
        "        mappings[note] = i\n",
        "\n",
        "    # save the mapping in a text file\n",
        "    with open(mapping_file_path, \"w\") as f:\n",
        "        json.dump(mappings, f, indent=4)\n",
        "\n",
        "    return mappings"
      ]
    },
    {
      "cell_type": "code",
      "execution_count": null,
      "metadata": {
        "id": "lwO-9ov4t38b"
      },
      "outputs": [],
      "source": [
        "def convert_songs_to_numeric(encoded_songs, mapping_file_path):\n",
        "    \"\"\"\n",
        "    Converts a string of encoded songs to a list of numeric values by mapping\n",
        "    each symbol to its corresponding index in the provided mapping file.\n",
        "\n",
        "    Parameters\n",
        "    ----------\n",
        "    encoded_songs : str\n",
        "        A string representing a sequence of encoded songs, with symbols\n",
        "        separated by spaces.\n",
        "    mapping_file_path : str\n",
        "        The file path where the mapping of symbols to indices is saved in JSON\n",
        "        format.\n",
        "\n",
        "    Returns\n",
        "    -------\n",
        "    list of int\n",
        "        A list of numeric values corresponding to the input songs.\n",
        "    \"\"\"\n",
        "    # Load mappings\n",
        "    with open(mapping_file_path, \"r\") as file:\n",
        "        mappings = json.load(file)\n",
        "\n",
        "    # Split the songs into list of events\n",
        "    encoded_songs = encoded_songs.split()\n",
        "\n",
        "    # Map songs to numeric values\n",
        "    numeric_songs = [mappings[symbol] for symbol in encoded_songs]\n",
        "\n",
        "    return numeric_songs"
      ]
    },
    {
      "cell_type": "code",
      "execution_count": null,
      "metadata": {
        "id": "qAKPJ5G9t35k"
      },
      "outputs": [],
      "source": [
        "def generate_training_sequences(full_dataset_file_path, mapping_file_path, sequence_length):\n",
        "    \"\"\"\n",
        "    Generates training sequences from a file containing a sequence of songs.\n",
        "\n",
        "    This function first loads the encoded songs from the specified file path,\n",
        "    then converts them to numeric values using the provided mapping file path.\n",
        "    The function then generates the input sequences and targets for training a\n",
        "    sequence prediction model. The number of sequences is equal to the length\n",
        "    of the input sequence minus the sequence length.\n",
        "\n",
        "    Parameters\n",
        "    ----------\n",
        "    full_dataset_file_path : str\n",
        "        The path to the file containing the sequence of encoded songs.\n",
        "    mapping_file_path : str\n",
        "        The file path where the mapping of symbols to indices is saved in JSON\n",
        "        format.\n",
        "    sequence_length : int\n",
        "        The length of the sequences to be generated.\n",
        "\n",
        "    Returns\n",
        "    -------\n",
        "    inputs : numpy.ndarray\n",
        "        A 3-dimensional array of shape (number of sequences, sequence length,\n",
        "        vocabulary size) containing the input sequences after one-hot encoding.\n",
        "    targets : numpy.ndarray\n",
        "        A 1-dimensional array of shape (number of sequences,) containing the\n",
        "        targets for the input sequences.\n",
        "    \"\"\"\n",
        "    encoded_songs = load_encoded_song(full_dataset_file_path)\n",
        "\n",
        "    # Convert songs to numeric values\n",
        "    numeric_songs = convert_songs_to_numeric(encoded_songs, mapping_file_path)\n",
        "\n",
        "    # Generate the training sequences\n",
        "    input_sequences = []\n",
        "    target_values = []\n",
        "\n",
        "    num_sequences = len(numeric_songs) - sequence_length\n",
        "    for i in range(num_sequences):\n",
        "        # Input sequence\n",
        "        input_sequences.append(numeric_songs[i:i + sequence_length])\n",
        "\n",
        "        # Target value\n",
        "        target_values.append(numeric_songs[i + sequence_length])\n",
        "\n",
        "    # One-hot encode the sequences\n",
        "    # input dimension = (number of sequences, sequence length) =-> (number of sequences, sequence length, vocabulary size)\n",
        "    # [[0, 1, 2], [1, 0, 1], [2, 1, 0]] =-> [[[1, 0, 0], [0, 1, 0], [0, 0, 1]], [[0, 1, 0], [1, 0, 0], [0, 1, 0]], [[0, 0, 1], [0, 1, 0], [1, 0, 0]]]\n",
        "    vocabulary_size = len(set(numeric_songs))\n",
        "    input_sequences = np.array(input_sequences, dtype=np.int8)\n",
        "    # inputs = keras.utils.to_categorical(input_sequences, num_classes=vocabulary_size).astype(np.int8)\n",
        "    targets = np.array(target_values)\n",
        "\n",
        "    return input_sequences, targets\n",
        "\n"
      ]
    },
    {
      "cell_type": "markdown",
      "source": [
        "## Execution of Preprocessing"
      ],
      "metadata": {
        "id": "QKqZHD8ECkPZ"
      }
    },
    {
      "cell_type": "code",
      "execution_count": null,
      "metadata": {
        "id": "UIwXI5sWt32Y",
        "colab": {
          "base_uri": "https://localhost:8080/"
        },
        "outputId": "7ccdde7f-91da-4c8b-d3d1-2ed7aefb344f"
      },
      "outputs": [
        {
          "output_type": "stream",
          "name": "stdout",
          "text": [
            "Loaded 7429 songs.\n"
          ]
        }
      ],
      "source": [
        "# songs = create_single_file_dataset(DATASET_PATH, FILE_DATASET_PATH, DELIMETER, SEQUENCE_LENGTH)"
      ]
    },
    {
      "cell_type": "code",
      "source": [
        "songs = load_encoded_song(FILE_DATASET_PATH)"
      ],
      "metadata": {
        "id": "LIAbQXHf7OiW"
      },
      "execution_count": null,
      "outputs": []
    },
    {
      "cell_type": "code",
      "execution_count": null,
      "metadata": {
        "id": "-4x4dM05t3zV",
        "colab": {
          "base_uri": "https://localhost:8080/"
        },
        "outputId": "dfc0f89f-c87d-4b03-fea1-b7b25aca14f8",
        "collapsed": true
      },
      "outputs": [
        {
          "output_type": "execute_result",
          "data": {
            "text/plain": [
              "{'73': 0,\n",
              " '48': 1,\n",
              " '79': 2,\n",
              " '66': 3,\n",
              " '90': 4,\n",
              " '60': 5,\n",
              " '72': 6,\n",
              " '50': 7,\n",
              " '53': 8,\n",
              " '43': 9,\n",
              " '98': 10,\n",
              " '95': 11,\n",
              " '74': 12,\n",
              " '67': 13,\n",
              " '82': 14,\n",
              " '76': 15,\n",
              " '61': 16,\n",
              " '71': 17,\n",
              " '49': 18,\n",
              " '83': 19,\n",
              " '70': 20,\n",
              " '84': 21,\n",
              " '59': 22,\n",
              " '55': 23,\n",
              " '62': 24,\n",
              " '85': 25,\n",
              " '56': 26,\n",
              " '64': 27,\n",
              " '58': 28,\n",
              " '69': 29,\n",
              " '81': 30,\n",
              " '78': 31,\n",
              " '75': 32,\n",
              " '52': 33,\n",
              " '45': 34,\n",
              " '57': 35,\n",
              " '51': 36,\n",
              " 'r': 37,\n",
              " '91': 38,\n",
              " '_': 39,\n",
              " '68': 40,\n",
              " '54': 41,\n",
              " '77': 42,\n",
              " '80': 43,\n",
              " '/': 44,\n",
              " '93': 45,\n",
              " '63': 46,\n",
              " '86': 47,\n",
              " '47': 48,\n",
              " '65': 49,\n",
              " '88': 50}"
            ]
          },
          "metadata": {},
          "execution_count": 21
        }
      ],
      "source": [
        "create_mapping(songs, MAPPING_PATH)"
      ]
    },
    {
      "cell_type": "code",
      "execution_count": null,
      "metadata": {
        "id": "lVvjXfaBt3wI",
        "colab": {
          "base_uri": "https://localhost:8080/"
        },
        "outputId": "71fa0ac8-2aa2-4e04-80b4-4f0327d44605"
      },
      "outputs": [
        {
          "output_type": "stream",
          "name": "stdout",
          "text": [
            "<class 'numpy.ndarray'> <class 'numpy.ndarray'>\n",
            "(1139206, 64) (1139206,)\n",
            "72909184 9113648\n"
          ]
        }
      ],
      "source": [
        "inputs, targets = generate_training_sequences(FILE_DATASET_PATH, MAPPING_PATH, SEQUENCE_LENGTH)\n",
        "print(type(inputs), type(targets))\n",
        "print(inputs.shape, targets.shape)\n",
        "# print memory size of inputs and targets\n",
        "print(inputs.nbytes, targets.nbytes)"
      ]
    },
    {
      "cell_type": "code",
      "execution_count": 8,
      "metadata": {
        "id": "7igK5qult3p6"
      },
      "outputs": [],
      "source": [
        "with open(TRAINING_INPUT_PATH, \"rb\") as f:\n",
        "    inputs = pickle.load(f)\n",
        "\n",
        "with open(TRAINING_TARGET_PATH, \"rb\") as f:\n",
        "    targets = pickle.load(f)"
      ]
    },
    {
      "cell_type": "code",
      "source": [
        "inputs.shape, targets.shape"
      ],
      "metadata": {
        "colab": {
          "base_uri": "https://localhost:8080/"
        },
        "id": "zF7CVp4p_tEE",
        "outputId": "4f44682f-902c-4867-84dd-82da249d185b"
      },
      "execution_count": 9,
      "outputs": [
        {
          "output_type": "execute_result",
          "data": {
            "text/plain": [
              "((1139206, 64), (1139206,))"
            ]
          },
          "metadata": {},
          "execution_count": 9
        }
      ]
    },
    {
      "cell_type": "code",
      "source": [
        "oneHotEncodedInputs = []"
      ],
      "metadata": {
        "id": "VVTS-Ecl9omh"
      },
      "execution_count": 7,
      "outputs": []
    },
    {
      "cell_type": "code",
      "execution_count": 8,
      "metadata": {
        "id": "bK3M3V_Ct3m1"
      },
      "outputs": [],
      "source": [
        "for input in inputs:\n",
        "    oneHotInput = []\n",
        "    for event in input:\n",
        "        zero_array = np.zeros(51, dtype=np.int8)\n",
        "        zero_array[event] = 1\n",
        "        oneHotInput.append(zero_array)\n",
        "        del zero_array\n",
        "    oneHotInput = np.array(oneHotInput, dtype=np.int8)\n",
        "    oneHotEncodedInputs.append(oneHotInput)\n",
        "    del oneHotInput"
      ]
    },
    {
      "cell_type": "code",
      "source": [
        "oneHotEncodedInputs = np.array(oneHotEncodedInputs, dtype=np.int8)"
      ],
      "metadata": {
        "id": "B4zd-iU0E2Hm"
      },
      "execution_count": 10,
      "outputs": []
    },
    {
      "cell_type": "code",
      "source": [
        "with open(TRAINING_ONE_HOT_ENCODED_INPUT_PATH, \"rb\") as f:\n",
        "    oneHotEncodedInputs = pickle.load(f)"
      ],
      "metadata": {
        "id": "Ex-p6AzmE65K"
      },
      "execution_count": 21,
      "outputs": []
    },
    {
      "cell_type": "code",
      "execution_count": 22,
      "metadata": {
        "id": "2NqzcfBJt3hP",
        "colab": {
          "base_uri": "https://localhost:8080/"
        },
        "outputId": "1f743174-a795-4576-eaf6-2831646d8d7d"
      },
      "outputs": [
        {
          "output_type": "execute_result",
          "data": {
            "text/plain": [
              "(1139206, 64, 51)"
            ]
          },
          "metadata": {},
          "execution_count": 22
        }
      ],
      "source": [
        "oneHotEncodedInputs.shape"
      ]
    },
    {
      "cell_type": "code",
      "execution_count": null,
      "metadata": {
        "id": "Lq-IVAJzaICU"
      },
      "outputs": [],
      "source": []
    }
  ],
  "metadata": {
    "colab": {
      "provenance": [],
      "mount_file_id": "1XEPcCZpAB5E0N8AIoFmx-eLUxfzGpQOy",
      "authorship_tag": "ABX9TyP4PvRNyibOCFxs5p+yZxpF",
      "include_colab_link": true
    },
    "kernelspec": {
      "display_name": "Python 3",
      "name": "python3"
    },
    "language_info": {
      "name": "python"
    }
  },
  "nbformat": 4,
  "nbformat_minor": 0
}