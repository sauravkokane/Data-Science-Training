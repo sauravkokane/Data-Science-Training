{
  "cells": [
    {
      "cell_type": "markdown",
      "metadata": {
        "id": "view-in-github",
        "colab_type": "text"
      },
      "source": [
        "<a href=\"https://colab.research.google.com/github/sauravkokane/Data-Science-Training/blob/master/Melody_Generation_Application.ipynb\" target=\"_parent\"><img src=\"https://colab.research.google.com/assets/colab-badge.svg\" alt=\"Open In Colab\"/></a>"
      ]
    },
    {
      "cell_type": "markdown",
      "source": [
        "# Prerequisite"
      ],
      "metadata": {
        "id": "oZDxzHpMDtLl"
      }
    },
    {
      "cell_type": "markdown",
      "source": [
        "## Connect to google drive"
      ],
      "metadata": {
        "id": "n3CgbM0q_J1T"
      }
    },
    {
      "cell_type": "code",
      "execution_count": 1,
      "metadata": {
        "colab": {
          "base_uri": "https://localhost:8080/"
        },
        "id": "7c5NK0vqt4cc",
        "outputId": "b1e1f37d-41c0-4a70-c766-9f078447e458"
      },
      "outputs": [
        {
          "output_type": "stream",
          "name": "stdout",
          "text": [
            "Drive already mounted at /content/drive; to attempt to forcibly remount, call drive.mount(\"/content/drive\", force_remount=True).\n"
          ]
        }
      ],
      "source": [
        "from google.colab import drive\n",
        "drive.mount('/content/drive')"
      ]
    },
    {
      "cell_type": "markdown",
      "source": [
        "## Load Nessessary Libraries"
      ],
      "metadata": {
        "id": "HO5o3tc__RY1"
      }
    },
    {
      "cell_type": "code",
      "execution_count": 1,
      "metadata": {
        "id": "8HPPkYkOTBQq"
      },
      "outputs": [],
      "source": [
        "import random\n",
        "import json\n",
        "import pickle"
      ]
    },
    {
      "cell_type": "code",
      "source": [
        "!pip install music21"
      ],
      "metadata": {
        "colab": {
          "base_uri": "https://localhost:8080/"
        },
        "id": "4xCmjG8bL1oX",
        "outputId": "5fa26ea7-e06c-4236-dba2-4be6deb9b689"
      },
      "execution_count": 2,
      "outputs": [
        {
          "output_type": "stream",
          "name": "stdout",
          "text": [
            "Requirement already satisfied: music21 in /usr/local/lib/python3.10/dist-packages (9.3.0)\n",
            "Requirement already satisfied: chardet in /usr/local/lib/python3.10/dist-packages (from music21) (5.2.0)\n",
            "Requirement already satisfied: joblib in /usr/local/lib/python3.10/dist-packages (from music21) (1.4.2)\n",
            "Requirement already satisfied: jsonpickle in /usr/local/lib/python3.10/dist-packages (from music21) (4.0.1)\n",
            "Requirement already satisfied: matplotlib in /usr/local/lib/python3.10/dist-packages (from music21) (3.8.0)\n",
            "Requirement already satisfied: more-itertools in /usr/local/lib/python3.10/dist-packages (from music21) (10.5.0)\n",
            "Requirement already satisfied: numpy in /usr/local/lib/python3.10/dist-packages (from music21) (1.26.4)\n",
            "Requirement already satisfied: requests in /usr/local/lib/python3.10/dist-packages (from music21) (2.32.3)\n",
            "Requirement already satisfied: webcolors>=1.5 in /usr/local/lib/python3.10/dist-packages (from music21) (24.11.1)\n",
            "Requirement already satisfied: contourpy>=1.0.1 in /usr/local/lib/python3.10/dist-packages (from matplotlib->music21) (1.3.1)\n",
            "Requirement already satisfied: cycler>=0.10 in /usr/local/lib/python3.10/dist-packages (from matplotlib->music21) (0.12.1)\n",
            "Requirement already satisfied: fonttools>=4.22.0 in /usr/local/lib/python3.10/dist-packages (from matplotlib->music21) (4.55.3)\n",
            "Requirement already satisfied: kiwisolver>=1.0.1 in /usr/local/lib/python3.10/dist-packages (from matplotlib->music21) (1.4.7)\n",
            "Requirement already satisfied: packaging>=20.0 in /usr/local/lib/python3.10/dist-packages (from matplotlib->music21) (24.2)\n",
            "Requirement already satisfied: pillow>=6.2.0 in /usr/local/lib/python3.10/dist-packages (from matplotlib->music21) (11.0.0)\n",
            "Requirement already satisfied: pyparsing>=2.3.1 in /usr/local/lib/python3.10/dist-packages (from matplotlib->music21) (3.2.0)\n",
            "Requirement already satisfied: python-dateutil>=2.7 in /usr/local/lib/python3.10/dist-packages (from matplotlib->music21) (2.8.2)\n",
            "Requirement already satisfied: charset-normalizer<4,>=2 in /usr/local/lib/python3.10/dist-packages (from requests->music21) (3.4.0)\n",
            "Requirement already satisfied: idna<4,>=2.5 in /usr/local/lib/python3.10/dist-packages (from requests->music21) (3.10)\n",
            "Requirement already satisfied: urllib3<3,>=1.21.1 in /usr/local/lib/python3.10/dist-packages (from requests->music21) (2.2.3)\n",
            "Requirement already satisfied: certifi>=2017.4.17 in /usr/local/lib/python3.10/dist-packages (from requests->music21) (2024.12.14)\n",
            "Requirement already satisfied: six>=1.5 in /usr/local/lib/python3.10/dist-packages (from python-dateutil>=2.7->matplotlib->music21) (1.17.0)\n"
          ]
        }
      ]
    },
    {
      "cell_type": "code",
      "execution_count": 3,
      "metadata": {
        "id": "_pMxkf6yyvqC"
      },
      "outputs": [],
      "source": [
        "import os\n",
        "import music21 as m21"
      ]
    },
    {
      "cell_type": "code",
      "execution_count": 4,
      "metadata": {
        "id": "daU_7Jt9yvXH"
      },
      "outputs": [],
      "source": [
        "import numpy as np\n",
        "import pandas as pd\n",
        "import tensorflow.keras as keras\n",
        "import matplotlib.pyplot as plt"
      ]
    },
    {
      "cell_type": "markdown",
      "source": [
        "## File Paths"
      ],
      "metadata": {
        "id": "iNKSUh23CNJp"
      }
    },
    {
      "cell_type": "code",
      "execution_count": 5,
      "metadata": {
        "id": "zJPJoeTst4Zk"
      },
      "outputs": [],
      "source": [
        "KERN_DATASET_PATH = \"/content/drive/MyDrive/Datasets/essen\"\n",
        "DATASET_PATH = \"/content/drive/MyDrive/Datasets/Melody_Dataset\""
      ]
    },
    {
      "cell_type": "code",
      "source": [
        "FILE_DATASET_PATH = \"/content/drive/MyDrive/Datasets/Melody Generation/file_dataset.txt\"\n",
        "MAPPING_PATH = \"/content/drive/MyDrive/Datasets/Melody Generation/mapping.json\""
      ],
      "metadata": {
        "id": "YQJuqixjZCoQ"
      },
      "execution_count": 6,
      "outputs": []
    },
    {
      "cell_type": "code",
      "source": [
        "# Inputs and outputs saving paths (pickle files)\n",
        "TRAINING_INPUT_PATH = \"/content/drive/MyDrive/Datasets/Melody Generation/songs_inputs.pkl\"\n",
        "TRAINING_ONE_HOT_ENCODED_INPUT_PATH = \"/content/drive/MyDrive/Datasets/Melody Generation/one_hot_inputs.pkl\"\n",
        "TRAINING_TARGET_PATH = \"/content/drive/MyDrive/Datasets/Melody Generation/songs_targets.pkl\""
      ],
      "metadata": {
        "id": "8zSFirK7_gP0"
      },
      "execution_count": 7,
      "outputs": []
    },
    {
      "cell_type": "code",
      "execution_count": 8,
      "metadata": {
        "id": "GoWnhhfx4omW"
      },
      "outputs": [],
      "source": [
        "TEST_PATH = \"/content/drive/MyDrive/Datasets/essen/europa/deutschl/test\""
      ]
    },
    {
      "cell_type": "code",
      "source": [
        "SAVE_MODEL_PATH = \"/content/drive/MyDrive/ML_DL_Models/melody_generation_model.keras\""
      ],
      "metadata": {
        "id": "C59QRNJpENNg"
      },
      "execution_count": 9,
      "outputs": []
    },
    {
      "cell_type": "markdown",
      "source": [
        "## Constants"
      ],
      "metadata": {
        "id": "wDqvzq0iD_h2"
      }
    },
    {
      "cell_type": "code",
      "source": [
        "DELIMETER = \"/ \"\n",
        "SEQUENCE_LENGTH = 64\n",
        "OUTPUT_UNITS = 51\n",
        "NUM_UNITS = [256]\n",
        "LOSS = \"sparse_categorical_crossentropy\"\n",
        "LEARNING_RATE = 0.001\n",
        "NUM_EPOCHS = 50\n",
        "BATCH_SIZE = 64"
      ],
      "metadata": {
        "id": "l9Guhf0tEDv6"
      },
      "execution_count": 10,
      "outputs": []
    },
    {
      "cell_type": "code",
      "execution_count": 11,
      "metadata": {
        "id": "Dc5N6MdWKGoX"
      },
      "outputs": [],
      "source": [
        "ACCEPTABLE_DURATIONS = [\n",
        "    0.25,    # 16th Note\n",
        "    0.5,     # 8th note\n",
        "    0.75,    # dotted note\n",
        "    1.0,     # quarter note\n",
        "    1.5,     # dotted quarter note\n",
        "    2,       # half note\n",
        "    3,       # three quarter notes\n",
        "    4        # full note\n",
        "]"
      ]
    },
    {
      "cell_type": "markdown",
      "source": [
        "# Preprocessing"
      ],
      "metadata": {
        "id": "wWRFIW9yDfup"
      }
    },
    {
      "cell_type": "markdown",
      "source": [
        "## Preprocessing functions"
      ],
      "metadata": {
        "id": "-tWekI4LCSDr"
      }
    },
    {
      "cell_type": "code",
      "execution_count": null,
      "metadata": {
        "id": "0YtRYOYlys1g"
      },
      "outputs": [],
      "source": [
        "def load_songs_in_kern(dataset_path):\n",
        "    # go through all files in dataset and load them using music21\n",
        "    songs = []\n",
        "    for path, subdirs, files in os.walk(dataset_path):\n",
        "        for file in files:\n",
        "            if file[-3:] == \"krn\":\n",
        "                song = m21.converter.parse(os.path.join(path, file))\n",
        "                songs.append(song)\n",
        "    return songs\n"
      ]
    },
    {
      "cell_type": "code",
      "execution_count": null,
      "metadata": {
        "id": "x0URGWq-R-QJ"
      },
      "outputs": [],
      "source": [
        "def has_acceptable_duration(song:m21.stream.base.Score, acceptable_durations:list):\n",
        "    for note in song.flatten().notesAndRests:\n",
        "        if note.duration.quarterLength not in acceptable_durations:\n",
        "            return False\n",
        "    return True"
      ]
    },
    {
      "cell_type": "code",
      "execution_count": null,
      "metadata": {
        "id": "M2OZKpHCsL-_"
      },
      "outputs": [],
      "source": [
        "def transpose(song: m21.stream.base.Score):\n",
        "    # get key from the score\n",
        "    try:\n",
        "        parts = song.getElementsByClass(m21.stream.Part)\n",
        "        measure0 = parts[0].getElementsByClass(m21.stream.Measure)\n",
        "        key = measure0[0][4]\n",
        "    except IndexError:\n",
        "        key =  song.analyze(\"key\")\n",
        "\n",
        "    # Predict key using music21 if key is not present in first measure\n",
        "    if not isinstance(key, m21.key.Key):\n",
        "        key =  song.analyze(\"key\")\n",
        "\n",
        "    # get interval for transposition\n",
        "    if key.mode == \"major\":\n",
        "        interval = m21.interval.Interval(key.tonic, m21.pitch.Pitch(\"C\"))\n",
        "    elif key.mode == \"minor\":\n",
        "        interval = m21.interval.Interval(key.tonic, m21.pitch.Pitch(\"A\"))\n",
        "\n",
        "    # Transpose the song by calculated interval\n",
        "    transposed_song = song.transpose(interval)\n",
        "    return transposed_song"
      ]
    },
    {
      "cell_type": "code",
      "execution_count": null,
      "metadata": {
        "id": "IkR1xeBpIs95"
      },
      "outputs": [],
      "source": [
        "def encode(song, time_step=0.25):\n",
        "    # p = 60, d= 1.0 => [60, \"_\", \"_\", \"_\"]\n",
        "    encoded_song = []\n",
        "    for event in song.flatten().notesAndRests:\n",
        "        # handle notes\n",
        "        if isinstance(event, m21.note.Note):\n",
        "            symbol = event.pitch.midi   # 60\n",
        "\n",
        "        # handle rests\n",
        "        elif isinstance(event, m21.note.Rest):\n",
        "            symbol = \"r\"\n",
        "\n",
        "        # convert the note/rest into time series notation\n",
        "        steps = int(event.duration.quarterLength // time_step)\n",
        "\n",
        "        for step in range(steps):\n",
        "            if step==0:\n",
        "                encoded_song.append(symbol)\n",
        "            else:\n",
        "                encoded_song.append(\"_\")\n",
        "    # change encoded song from list to string\n",
        "    encoded_song = \" \".join(map(str, encoded_song))\n",
        "    return encoded_song"
      ]
    },
    {
      "cell_type": "code",
      "execution_count": null,
      "metadata": {
        "id": "Dw1uwIPYt4WA"
      },
      "outputs": [],
      "source": [
        "def preprocess(dataset_path):\n",
        "    # Load the Folk songs\n",
        "    print(\"Song Loading is started\")\n",
        "    loaded_songs = load_songs_in_kern(dataset_path)\n",
        "    print(f\"Loaded {len(loaded_songs)} songs.\")\n",
        "\n",
        "    for i, song in enumerate(loaded_songs):\n",
        "\n",
        "        # Filter out the songs which have unacceptable length\n",
        "        if not has_acceptable_duration(song, ACCEPTABLE_DURATIONS):\n",
        "            continue\n",
        "        try:\n",
        "            # Transpose songs to C Major / A Minor scale\n",
        "            transposed_song = transpose(song)\n",
        "\n",
        "            # Encode songs with music time series representation\n",
        "            encoded_song = encode(transposed_song)\n",
        "\n",
        "            # Save songs in a text file\n",
        "            save_path = os.path.join(DATASET_PATH, str(i))\n",
        "            with open(save_path, \"w\") as f:\n",
        "                f.write(encoded_song)\n",
        "        except:\n",
        "            pass"
      ]
    },
    {
      "cell_type": "code",
      "execution_count": null,
      "metadata": {
        "id": "6KdSSTC83mYw"
      },
      "outputs": [],
      "source": [
        "# preprocess(KERN_DATASET_PATH)"
      ]
    },
    {
      "cell_type": "code",
      "source": [
        "def load_encoded_song(file_path):\n",
        "    with open(file_path, \"r\") as file:\n",
        "        song = file.read()\n",
        "    return song"
      ],
      "metadata": {
        "id": "DHKePwnbmEyy"
      },
      "execution_count": null,
      "outputs": []
    },
    {
      "cell_type": "code",
      "execution_count": null,
      "metadata": {
        "id": "3jVsg7N1t4Cr"
      },
      "outputs": [],
      "source": [
        "def create_single_file_dataset(dataset_path, full_dataset_file_path, delimiter, sequence_length):\n",
        "    \"\"\"\n",
        "    Loads all the songs in the dataset_path, adds a song delimiter (delimiter * sequence_length) after each song, and saves the songs in a single file located at full_dataset_file_path.\n",
        "\n",
        "    Parameters\n",
        "    ----------\n",
        "    dataset_path : str\n",
        "        The path to the root directory of the dataset containing songs to be processed.\n",
        "    full_dataset_file_path : str\n",
        "        The path to the file that will contain the whole dataset.\n",
        "    delimiter : str\n",
        "        The delimiter that will be used to separate the songs in the single file.\n",
        "    sequence_length : int\n",
        "        The length of the sequence that will be used to separate the songs in the single file.\n",
        "\n",
        "    Returns\n",
        "    -------\n",
        "    str\n",
        "        The string containing the songs and the delimiters.\n",
        "    \"\"\"\n",
        "    song_delimiter = delimiter * sequence_length\n",
        "    songs = []\n",
        "    number_of_songs = 0\n",
        "    for path, _, files in os.walk(dataset_path):\n",
        "        for file in files:\n",
        "            file_path = os.path.join(path, file)\n",
        "            song = load_encoded_song(file_path)\n",
        "            songs.append(song)\n",
        "            number_of_songs += 1\n",
        "    print(f\"Loaded {number_of_songs} songs.\")\n",
        "\n",
        "    songs_str = ' '.join(songs + [song_delimiter])\n",
        "\n",
        "    with open(full_dataset_file_path, 'w') as f:\n",
        "        f.write(songs_str)\n",
        "\n",
        "    return songs_str"
      ]
    },
    {
      "cell_type": "code",
      "execution_count": null,
      "metadata": {
        "id": "EM4yp-D-t3_j"
      },
      "outputs": [],
      "source": [
        "def create_mapping(songs, mapping_file_path):\n",
        "\n",
        "    \"\"\"\n",
        "    Creates a mapping from unique symbols in the songs to numeric indices and saves it to a file.\n",
        "\n",
        "    This function identifies the unique vocabulary of symbols (e.g., notes, rests) in the provided\n",
        "    songs, assigns each symbol a unique integer index, and saves this mapping to a specified JSON file.\n",
        "\n",
        "    Parameters\n",
        "    ----------\n",
        "    songs : str\n",
        "        A string representing a sequence of encoded songs, with symbols separated by spaces.\n",
        "    mapping_file_path : str\n",
        "        The file path where the mapping of symbols to indices will be saved in JSON format.\n",
        "\n",
        "    Returns\n",
        "    -------\n",
        "    dict\n",
        "        A dictionary where keys are symbols from the songs and values are their corresponding indices.\n",
        "    \"\"\"\n",
        "\n",
        "    mappings = {}\n",
        "\n",
        "    # identify the vocabulary\n",
        "    songs = songs.split()\n",
        "    vocabulary = list(set(songs))\n",
        "\n",
        "    for i, note in enumerate(vocabulary):\n",
        "        mappings[note] = i\n",
        "\n",
        "    # save the mapping in a text file\n",
        "    with open(mapping_file_path, \"w\") as f:\n",
        "        json.dump(mappings, f, indent=4)\n",
        "\n",
        "    return mappings"
      ]
    },
    {
      "cell_type": "code",
      "execution_count": null,
      "metadata": {
        "id": "lwO-9ov4t38b"
      },
      "outputs": [],
      "source": [
        "def convert_songs_to_numeric(encoded_songs, mapping_file_path):\n",
        "    \"\"\"\n",
        "    Converts a string of encoded songs to a list of numeric values by mapping\n",
        "    each symbol to its corresponding index in the provided mapping file.\n",
        "\n",
        "    Parameters\n",
        "    ----------\n",
        "    encoded_songs : str\n",
        "        A string representing a sequence of encoded songs, with symbols\n",
        "        separated by spaces.\n",
        "    mapping_file_path : str\n",
        "        The file path where the mapping of symbols to indices is saved in JSON\n",
        "        format.\n",
        "\n",
        "    Returns\n",
        "    -------\n",
        "    list of int\n",
        "        A list of numeric values corresponding to the input songs.\n",
        "    \"\"\"\n",
        "    # Load mappings\n",
        "    with open(mapping_file_path, \"r\") as file:\n",
        "        mappings = json.load(file)\n",
        "\n",
        "    # Split the songs into list of events\n",
        "    encoded_songs = encoded_songs.split()\n",
        "\n",
        "    # Map songs to numeric values\n",
        "    numeric_songs = [mappings[symbol] for symbol in encoded_songs]\n",
        "\n",
        "    return numeric_songs"
      ]
    },
    {
      "cell_type": "code",
      "execution_count": null,
      "metadata": {
        "id": "qAKPJ5G9t35k"
      },
      "outputs": [],
      "source": [
        "def generate_training_sequences(full_dataset_file_path, mapping_file_path, sequence_length):\n",
        "    \"\"\"\n",
        "    Generates training sequences from a file containing a sequence of songs.\n",
        "\n",
        "    This function first loads the encoded songs from the specified file path,\n",
        "    then converts them to numeric values using the provided mapping file path.\n",
        "    The function then generates the input sequences and targets for training a\n",
        "    sequence prediction model. The number of sequences is equal to the length\n",
        "    of the input sequence minus the sequence length.\n",
        "\n",
        "    Parameters\n",
        "    ----------\n",
        "    full_dataset_file_path : str\n",
        "        The path to the file containing the sequence of encoded songs.\n",
        "    mapping_file_path : str\n",
        "        The file path where the mapping of symbols to indices is saved in JSON\n",
        "        format.\n",
        "    sequence_length : int\n",
        "        The length of the sequences to be generated.\n",
        "\n",
        "    Returns\n",
        "    -------\n",
        "    inputs : numpy.ndarray\n",
        "        A 3-dimensional array of shape (number of sequences, sequence length,\n",
        "        vocabulary size) containing the input sequences after one-hot encoding.\n",
        "    targets : numpy.ndarray\n",
        "        A 1-dimensional array of shape (number of sequences,) containing the\n",
        "        targets for the input sequences.\n",
        "    \"\"\"\n",
        "    encoded_songs = load_encoded_song(full_dataset_file_path)\n",
        "\n",
        "    # Convert songs to numeric values\n",
        "    numeric_songs = convert_songs_to_numeric(encoded_songs, mapping_file_path)\n",
        "\n",
        "    # Generate the training sequences\n",
        "    input_sequences = []\n",
        "    target_values = []\n",
        "\n",
        "    num_sequences = len(numeric_songs) - sequence_length\n",
        "    for i in range(num_sequences):\n",
        "        # Input sequence\n",
        "        input_sequences.append(numeric_songs[i:i + sequence_length])\n",
        "\n",
        "        # Target value\n",
        "        target_values.append(numeric_songs[i + sequence_length])\n",
        "\n",
        "    # One-hot encode the sequences\n",
        "    # input dimension = (number of sequences, sequence length) =-> (number of sequences, sequence length, vocabulary size)\n",
        "    # [[0, 1, 2], [1, 0, 1], [2, 1, 0]] =-> [[[1, 0, 0], [0, 1, 0], [0, 0, 1]], [[0, 1, 0], [1, 0, 0], [0, 1, 0]], [[0, 0, 1], [0, 1, 0], [1, 0, 0]]]\n",
        "    vocabulary_size = len(set(numeric_songs))\n",
        "    input_sequences = np.array(input_sequences, dtype=np.int8)\n",
        "    # inputs = keras.utils.to_categorical(input_sequences, num_classes=vocabulary_size).astype(np.int8)\n",
        "    targets = np.array(target_values)\n",
        "\n",
        "    return input_sequences, targets\n",
        "\n"
      ]
    },
    {
      "cell_type": "markdown",
      "source": [
        "## Execution of Preprocessing"
      ],
      "metadata": {
        "id": "QKqZHD8ECkPZ"
      }
    },
    {
      "cell_type": "code",
      "execution_count": null,
      "metadata": {
        "id": "UIwXI5sWt32Y",
        "colab": {
          "base_uri": "https://localhost:8080/"
        },
        "outputId": "7ccdde7f-91da-4c8b-d3d1-2ed7aefb344f"
      },
      "outputs": [
        {
          "output_type": "stream",
          "name": "stdout",
          "text": [
            "Loaded 7429 songs.\n"
          ]
        }
      ],
      "source": [
        "# songs = create_single_file_dataset(DATASET_PATH, FILE_DATASET_PATH, DELIMETER, SEQUENCE_LENGTH)"
      ]
    },
    {
      "cell_type": "code",
      "source": [
        "songs = load_encoded_song(FILE_DATASET_PATH)"
      ],
      "metadata": {
        "id": "LIAbQXHf7OiW"
      },
      "execution_count": null,
      "outputs": []
    },
    {
      "cell_type": "code",
      "execution_count": null,
      "metadata": {
        "id": "-4x4dM05t3zV",
        "colab": {
          "base_uri": "https://localhost:8080/"
        },
        "outputId": "dfc0f89f-c87d-4b03-fea1-b7b25aca14f8",
        "collapsed": true
      },
      "outputs": [
        {
          "output_type": "execute_result",
          "data": {
            "text/plain": [
              "{'73': 0,\n",
              " '48': 1,\n",
              " '79': 2,\n",
              " '66': 3,\n",
              " '90': 4,\n",
              " '60': 5,\n",
              " '72': 6,\n",
              " '50': 7,\n",
              " '53': 8,\n",
              " '43': 9,\n",
              " '98': 10,\n",
              " '95': 11,\n",
              " '74': 12,\n",
              " '67': 13,\n",
              " '82': 14,\n",
              " '76': 15,\n",
              " '61': 16,\n",
              " '71': 17,\n",
              " '49': 18,\n",
              " '83': 19,\n",
              " '70': 20,\n",
              " '84': 21,\n",
              " '59': 22,\n",
              " '55': 23,\n",
              " '62': 24,\n",
              " '85': 25,\n",
              " '56': 26,\n",
              " '64': 27,\n",
              " '58': 28,\n",
              " '69': 29,\n",
              " '81': 30,\n",
              " '78': 31,\n",
              " '75': 32,\n",
              " '52': 33,\n",
              " '45': 34,\n",
              " '57': 35,\n",
              " '51': 36,\n",
              " 'r': 37,\n",
              " '91': 38,\n",
              " '_': 39,\n",
              " '68': 40,\n",
              " '54': 41,\n",
              " '77': 42,\n",
              " '80': 43,\n",
              " '/': 44,\n",
              " '93': 45,\n",
              " '63': 46,\n",
              " '86': 47,\n",
              " '47': 48,\n",
              " '65': 49,\n",
              " '88': 50}"
            ]
          },
          "metadata": {},
          "execution_count": 21
        }
      ],
      "source": [
        "create_mapping(songs, MAPPING_PATH)"
      ]
    },
    {
      "cell_type": "code",
      "execution_count": null,
      "metadata": {
        "id": "lVvjXfaBt3wI",
        "colab": {
          "base_uri": "https://localhost:8080/"
        },
        "outputId": "71fa0ac8-2aa2-4e04-80b4-4f0327d44605"
      },
      "outputs": [
        {
          "output_type": "stream",
          "name": "stdout",
          "text": [
            "<class 'numpy.ndarray'> <class 'numpy.ndarray'>\n",
            "(1139206, 64) (1139206,)\n",
            "72909184 9113648\n"
          ]
        }
      ],
      "source": [
        "inputs, targets = generate_training_sequences(FILE_DATASET_PATH, MAPPING_PATH, SEQUENCE_LENGTH)\n",
        "print(type(inputs), type(targets))\n",
        "print(inputs.shape, targets.shape)\n",
        "# print memory size of inputs and targets\n",
        "print(inputs.nbytes, targets.nbytes)"
      ]
    },
    {
      "cell_type": "code",
      "execution_count": 8,
      "metadata": {
        "id": "7igK5qult3p6"
      },
      "outputs": [],
      "source": [
        "with open(TRAINING_INPUT_PATH, \"rb\") as f:\n",
        "    inputs = pickle.load(f)\n",
        "\n",
        "with open(TRAINING_TARGET_PATH, \"rb\") as f:\n",
        "    targets = pickle.load(f)"
      ]
    },
    {
      "cell_type": "code",
      "source": [
        "inputs.shape, targets.shape"
      ],
      "metadata": {
        "colab": {
          "base_uri": "https://localhost:8080/"
        },
        "id": "zF7CVp4p_tEE",
        "outputId": "4f44682f-902c-4867-84dd-82da249d185b"
      },
      "execution_count": 9,
      "outputs": [
        {
          "output_type": "execute_result",
          "data": {
            "text/plain": [
              "((1139206, 64), (1139206,))"
            ]
          },
          "metadata": {},
          "execution_count": 9
        }
      ]
    },
    {
      "cell_type": "code",
      "source": [
        "oneHotEncodedInputs = []"
      ],
      "metadata": {
        "id": "VVTS-Ecl9omh"
      },
      "execution_count": 7,
      "outputs": []
    },
    {
      "cell_type": "code",
      "execution_count": 8,
      "metadata": {
        "id": "bK3M3V_Ct3m1"
      },
      "outputs": [],
      "source": [
        "for input in inputs:\n",
        "    oneHotInput = []\n",
        "    for event in input:\n",
        "        zero_array = np.zeros(51, dtype=np.int8)\n",
        "        zero_array[event] = 1\n",
        "        oneHotInput.append(zero_array)\n",
        "        del zero_array\n",
        "    oneHotInput = np.array(oneHotInput, dtype=np.int8)\n",
        "    oneHotEncodedInputs.append(oneHotInput)\n",
        "    del oneHotInput"
      ]
    },
    {
      "cell_type": "code",
      "source": [
        "oneHotEncodedInputs = np.array(oneHotEncodedInputs, dtype=np.int8)"
      ],
      "metadata": {
        "id": "B4zd-iU0E2Hm"
      },
      "execution_count": 10,
      "outputs": []
    },
    {
      "cell_type": "code",
      "source": [],
      "metadata": {
        "id": "Ex-p6AzmE65K"
      },
      "execution_count": 21,
      "outputs": []
    },
    {
      "cell_type": "code",
      "execution_count": null,
      "metadata": {
        "id": "Lq-IVAJzaICU"
      },
      "outputs": [],
      "source": []
    },
    {
      "cell_type": "markdown",
      "source": [
        "# Training"
      ],
      "metadata": {
        "id": "WxWWeuseDl_7"
      }
    },
    {
      "cell_type": "markdown",
      "source": [
        "## Training Functions"
      ],
      "metadata": {
        "id": "kAl-VU47DP0r"
      }
    },
    {
      "cell_type": "code",
      "source": [
        "def load_generated_sequences(training_input_path, training_target_path):\n",
        "    with open(training_input_path, \"rb\") as f:\n",
        "        inputs = pickle.load(f)\n",
        "\n",
        "    with open(training_target_path, \"rb\") as f:\n",
        "        targets = pickle.load(f)\n",
        "    print(inputs.shape, targets.shape)\n",
        "    return inputs, targets"
      ],
      "metadata": {
        "id": "7TG2zkemDUw5"
      },
      "execution_count": 12,
      "outputs": []
    },
    {
      "cell_type": "code",
      "source": [],
      "metadata": {
        "id": "0kZYY9iMtTuy"
      },
      "execution_count": null,
      "outputs": []
    },
    {
      "cell_type": "code",
      "source": [],
      "metadata": {
        "id": "ORiI1Qw7tTXu"
      },
      "execution_count": null,
      "outputs": []
    },
    {
      "cell_type": "code",
      "source": [
        "def build_model(output_units, num_units, loss_function, learning_rate):\n",
        "    \"\"\"\n",
        "    Builds a model with the specified architecture and compiles it with the\n",
        "    specified loss function and optimizer.\n",
        "\n",
        "    Parameters\n",
        "    ----------\n",
        "    output_units : int\n",
        "        The number of output units of the model.\n",
        "    num_units : list of int\n",
        "        The number of units in each layer of the model.\n",
        "    loss_function : str\n",
        "        The name of the loss function to use.\n",
        "    learning_rate : float\n",
        "        The learning rate of the optimizer.\n",
        "\n",
        "    Returns\n",
        "    -------\n",
        "    model : keras.Model\n",
        "        The compiled model.\n",
        "    \"\"\"\n",
        "\n",
        "    # create model architecture\n",
        "    input_layer = keras.layers.Input(shape=(None, output_units))\n",
        "\n",
        "    x = keras.layers.LSTM(num_units[0])(input_layer)\n",
        "    x = keras.layers.Dropout(0.2)(x)\n",
        "\n",
        "    output_layer = keras.layers.Dense(output_units, activation=\"softmax\")(x)\n",
        "\n",
        "\n",
        "    model = keras.Model(input_layer, output_layer)\n",
        "\n",
        "    # compile model\n",
        "    model.compile(loss=loss_function, optimizer=keras.optimizers.Adam(learning_rate=learning_rate), metrics=[\"accuracy\"])\n",
        "\n",
        "    model.summary()\n",
        "\n",
        "    return model"
      ],
      "metadata": {
        "id": "hnNpkyMdLRZH"
      },
      "execution_count": 13,
      "outputs": []
    },
    {
      "cell_type": "code",
      "source": [
        "def train_model(\n",
        "        training_input_path=TRAINING_ONE_HOT_ENCODED_INPUT_PATH,\n",
        "        training_target_path=TRAINING_TARGET_PATH,\n",
        "        output_units=OUTPUT_UNITS, num_units=NUM_UNITS,\n",
        "        loss_function=LOSS, learning_rate=LEARNING_RATE):\n",
        "\n",
        "    # get generated sequences\n",
        "    inputs, targets = load_generated_sequences(training_input_path, training_target_path)\n",
        "\n",
        "    # create model\n",
        "    model = build_model(output_units, num_units, loss_function, learning_rate)\n",
        "\n",
        "    # train model\n",
        "    model.fit(inputs, targets, epochs=NUM_EPOCHS, batch_size=BATCH_SIZE)\n",
        "\n",
        "    # save model\n",
        "    model.save(SAVE_MODEL_PATH)"
      ],
      "metadata": {
        "id": "1f03a9LaLk-0"
      },
      "execution_count": 14,
      "outputs": []
    },
    {
      "cell_type": "markdown",
      "source": [
        "## Train the model"
      ],
      "metadata": {
        "id": "GqhyCRKOMHFO"
      }
    },
    {
      "cell_type": "code",
      "source": [
        "train_model()"
      ],
      "metadata": {
        "colab": {
          "base_uri": "https://localhost:8080/",
          "height": 1000
        },
        "id": "oGRq_FKQLk7l",
        "outputId": "90520d20-f62b-4d21-fa3a-6a692755a9d5"
      },
      "execution_count": 15,
      "outputs": [
        {
          "output_type": "stream",
          "name": "stdout",
          "text": [
            "(1139206, 64, 51) (1139206,)\n"
          ]
        },
        {
          "output_type": "display_data",
          "data": {
            "text/plain": [
              "\u001b[1mModel: \"functional\"\u001b[0m\n"
            ],
            "text/html": [
              "<pre style=\"white-space:pre;overflow-x:auto;line-height:normal;font-family:Menlo,'DejaVu Sans Mono',consolas,'Courier New',monospace\"><span style=\"font-weight: bold\">Model: \"functional\"</span>\n",
              "</pre>\n"
            ]
          },
          "metadata": {}
        },
        {
          "output_type": "display_data",
          "data": {
            "text/plain": [
              "┏━━━━━━━━━━━━━━━━━━━━━━━━━━━━━━━━━━━━━━┳━━━━━━━━━━━━━━━━━━━━━━━━━━━━━┳━━━━━━━━━━━━━━━━━┓\n",
              "┃\u001b[1m \u001b[0m\u001b[1mLayer (type)                        \u001b[0m\u001b[1m \u001b[0m┃\u001b[1m \u001b[0m\u001b[1mOutput Shape               \u001b[0m\u001b[1m \u001b[0m┃\u001b[1m \u001b[0m\u001b[1m        Param #\u001b[0m\u001b[1m \u001b[0m┃\n",
              "┡━━━━━━━━━━━━━━━━━━━━━━━━━━━━━━━━━━━━━━╇━━━━━━━━━━━━━━━━━━━━━━━━━━━━━╇━━━━━━━━━━━━━━━━━┩\n",
              "│ input_layer (\u001b[38;5;33mInputLayer\u001b[0m)             │ (\u001b[38;5;45mNone\u001b[0m, \u001b[38;5;45mNone\u001b[0m, \u001b[38;5;34m51\u001b[0m)            │               \u001b[38;5;34m0\u001b[0m │\n",
              "├──────────────────────────────────────┼─────────────────────────────┼─────────────────┤\n",
              "│ lstm (\u001b[38;5;33mLSTM\u001b[0m)                          │ (\u001b[38;5;45mNone\u001b[0m, \u001b[38;5;34m256\u001b[0m)                 │         \u001b[38;5;34m315,392\u001b[0m │\n",
              "├──────────────────────────────────────┼─────────────────────────────┼─────────────────┤\n",
              "│ dropout (\u001b[38;5;33mDropout\u001b[0m)                    │ (\u001b[38;5;45mNone\u001b[0m, \u001b[38;5;34m256\u001b[0m)                 │               \u001b[38;5;34m0\u001b[0m │\n",
              "├──────────────────────────────────────┼─────────────────────────────┼─────────────────┤\n",
              "│ dense (\u001b[38;5;33mDense\u001b[0m)                        │ (\u001b[38;5;45mNone\u001b[0m, \u001b[38;5;34m51\u001b[0m)                  │          \u001b[38;5;34m13,107\u001b[0m │\n",
              "└──────────────────────────────────────┴─────────────────────────────┴─────────────────┘\n"
            ],
            "text/html": [
              "<pre style=\"white-space:pre;overflow-x:auto;line-height:normal;font-family:Menlo,'DejaVu Sans Mono',consolas,'Courier New',monospace\">┏━━━━━━━━━━━━━━━━━━━━━━━━━━━━━━━━━━━━━━┳━━━━━━━━━━━━━━━━━━━━━━━━━━━━━┳━━━━━━━━━━━━━━━━━┓\n",
              "┃<span style=\"font-weight: bold\"> Layer (type)                         </span>┃<span style=\"font-weight: bold\"> Output Shape                </span>┃<span style=\"font-weight: bold\">         Param # </span>┃\n",
              "┡━━━━━━━━━━━━━━━━━━━━━━━━━━━━━━━━━━━━━━╇━━━━━━━━━━━━━━━━━━━━━━━━━━━━━╇━━━━━━━━━━━━━━━━━┩\n",
              "│ input_layer (<span style=\"color: #0087ff; text-decoration-color: #0087ff\">InputLayer</span>)             │ (<span style=\"color: #00d7ff; text-decoration-color: #00d7ff\">None</span>, <span style=\"color: #00d7ff; text-decoration-color: #00d7ff\">None</span>, <span style=\"color: #00af00; text-decoration-color: #00af00\">51</span>)            │               <span style=\"color: #00af00; text-decoration-color: #00af00\">0</span> │\n",
              "├──────────────────────────────────────┼─────────────────────────────┼─────────────────┤\n",
              "│ lstm (<span style=\"color: #0087ff; text-decoration-color: #0087ff\">LSTM</span>)                          │ (<span style=\"color: #00d7ff; text-decoration-color: #00d7ff\">None</span>, <span style=\"color: #00af00; text-decoration-color: #00af00\">256</span>)                 │         <span style=\"color: #00af00; text-decoration-color: #00af00\">315,392</span> │\n",
              "├──────────────────────────────────────┼─────────────────────────────┼─────────────────┤\n",
              "│ dropout (<span style=\"color: #0087ff; text-decoration-color: #0087ff\">Dropout</span>)                    │ (<span style=\"color: #00d7ff; text-decoration-color: #00d7ff\">None</span>, <span style=\"color: #00af00; text-decoration-color: #00af00\">256</span>)                 │               <span style=\"color: #00af00; text-decoration-color: #00af00\">0</span> │\n",
              "├──────────────────────────────────────┼─────────────────────────────┼─────────────────┤\n",
              "│ dense (<span style=\"color: #0087ff; text-decoration-color: #0087ff\">Dense</span>)                        │ (<span style=\"color: #00d7ff; text-decoration-color: #00d7ff\">None</span>, <span style=\"color: #00af00; text-decoration-color: #00af00\">51</span>)                  │          <span style=\"color: #00af00; text-decoration-color: #00af00\">13,107</span> │\n",
              "└──────────────────────────────────────┴─────────────────────────────┴─────────────────┘\n",
              "</pre>\n"
            ]
          },
          "metadata": {}
        },
        {
          "output_type": "display_data",
          "data": {
            "text/plain": [
              "\u001b[1m Total params: \u001b[0m\u001b[38;5;34m328,499\u001b[0m (1.25 MB)\n"
            ],
            "text/html": [
              "<pre style=\"white-space:pre;overflow-x:auto;line-height:normal;font-family:Menlo,'DejaVu Sans Mono',consolas,'Courier New',monospace\"><span style=\"font-weight: bold\"> Total params: </span><span style=\"color: #00af00; text-decoration-color: #00af00\">328,499</span> (1.25 MB)\n",
              "</pre>\n"
            ]
          },
          "metadata": {}
        },
        {
          "output_type": "display_data",
          "data": {
            "text/plain": [
              "\u001b[1m Trainable params: \u001b[0m\u001b[38;5;34m328,499\u001b[0m (1.25 MB)\n"
            ],
            "text/html": [
              "<pre style=\"white-space:pre;overflow-x:auto;line-height:normal;font-family:Menlo,'DejaVu Sans Mono',consolas,'Courier New',monospace\"><span style=\"font-weight: bold\"> Trainable params: </span><span style=\"color: #00af00; text-decoration-color: #00af00\">328,499</span> (1.25 MB)\n",
              "</pre>\n"
            ]
          },
          "metadata": {}
        },
        {
          "output_type": "display_data",
          "data": {
            "text/plain": [
              "\u001b[1m Non-trainable params: \u001b[0m\u001b[38;5;34m0\u001b[0m (0.00 B)\n"
            ],
            "text/html": [
              "<pre style=\"white-space:pre;overflow-x:auto;line-height:normal;font-family:Menlo,'DejaVu Sans Mono',consolas,'Courier New',monospace\"><span style=\"font-weight: bold\"> Non-trainable params: </span><span style=\"color: #00af00; text-decoration-color: #00af00\">0</span> (0.00 B)\n",
              "</pre>\n"
            ]
          },
          "metadata": {}
        },
        {
          "output_type": "stream",
          "name": "stdout",
          "text": [
            "Epoch 1/50\n",
            "\u001b[1m2176/2176\u001b[0m \u001b[32m━━━━━━━━━━━━━━━━━━━━\u001b[0m\u001b[37m\u001b[0m \u001b[1m23s\u001b[0m 9ms/step - accuracy: 0.6815 - loss: 1.2991\n",
            "Epoch 2/50\n",
            "\u001b[1m2176/2176\u001b[0m \u001b[32m━━━━━━━━━━━━━━━━━━━━\u001b[0m\u001b[37m\u001b[0m \u001b[1m19s\u001b[0m 9ms/step - accuracy: 0.6923 - loss: 0.9705\n",
            "Epoch 3/50\n",
            "\u001b[1m2176/2176\u001b[0m \u001b[32m━━━━━━━━━━━━━━━━━━━━\u001b[0m\u001b[37m\u001b[0m \u001b[1m20s\u001b[0m 8ms/step - accuracy: 0.7100 - loss: 0.9142\n",
            "Epoch 4/50\n",
            "\u001b[1m2176/2176\u001b[0m \u001b[32m━━━━━━━━━━━━━━━━━━━━\u001b[0m\u001b[37m\u001b[0m \u001b[1m19s\u001b[0m 9ms/step - accuracy: 0.7243 - loss: 0.8762\n",
            "Epoch 5/50\n",
            "\u001b[1m2176/2176\u001b[0m \u001b[32m━━━━━━━━━━━━━━━━━━━━\u001b[0m\u001b[37m\u001b[0m \u001b[1m22s\u001b[0m 9ms/step - accuracy: 0.7337 - loss: 0.8463\n",
            "Epoch 6/50\n",
            "\u001b[1m2176/2176\u001b[0m \u001b[32m━━━━━━━━━━━━━━━━━━━━\u001b[0m\u001b[37m\u001b[0m \u001b[1m19s\u001b[0m 9ms/step - accuracy: 0.7387 - loss: 0.8314\n",
            "Epoch 7/50\n",
            "\u001b[1m2176/2176\u001b[0m \u001b[32m━━━━━━━━━━━━━━━━━━━━\u001b[0m\u001b[37m\u001b[0m \u001b[1m21s\u001b[0m 10ms/step - accuracy: 0.7456 - loss: 0.8061\n",
            "Epoch 8/50\n",
            "\u001b[1m2176/2176\u001b[0m \u001b[32m━━━━━━━━━━━━━━━━━━━━\u001b[0m\u001b[37m\u001b[0m \u001b[1m39s\u001b[0m 9ms/step - accuracy: 0.7513 - loss: 0.7888\n",
            "Epoch 9/50\n",
            "\u001b[1m2176/2176\u001b[0m \u001b[32m━━━━━━━━━━━━━━━━━━━━\u001b[0m\u001b[37m\u001b[0m \u001b[1m21s\u001b[0m 9ms/step - accuracy: 0.7544 - loss: 0.7771\n",
            "Epoch 10/50\n",
            "\u001b[1m2176/2176\u001b[0m \u001b[32m━━━━━━━━━━━━━━━━━━━━\u001b[0m\u001b[37m\u001b[0m \u001b[1m19s\u001b[0m 9ms/step - accuracy: 0.7604 - loss: 0.7535\n",
            "Epoch 11/50\n",
            "\u001b[1m2176/2176\u001b[0m \u001b[32m━━━━━━━━━━━━━━━━━━━━\u001b[0m\u001b[37m\u001b[0m \u001b[1m21s\u001b[0m 9ms/step - accuracy: 0.7651 - loss: 0.7327\n",
            "Epoch 12/50\n",
            "\u001b[1m2176/2176\u001b[0m \u001b[32m━━━━━━━━━━━━━━━━━━━━\u001b[0m\u001b[37m\u001b[0m \u001b[1m21s\u001b[0m 9ms/step - accuracy: 0.7719 - loss: 0.7107\n",
            "Epoch 13/50\n",
            "\u001b[1m2176/2176\u001b[0m \u001b[32m━━━━━━━━━━━━━━━━━━━━\u001b[0m\u001b[37m\u001b[0m \u001b[1m20s\u001b[0m 9ms/step - accuracy: 0.7760 - loss: 0.6933\n",
            "Epoch 14/50\n",
            "\u001b[1m2176/2176\u001b[0m \u001b[32m━━━━━━━━━━━━━━━━━━━━\u001b[0m\u001b[37m\u001b[0m \u001b[1m20s\u001b[0m 9ms/step - accuracy: 0.7809 - loss: 0.6751\n",
            "Epoch 15/50\n",
            "\u001b[1m2176/2176\u001b[0m \u001b[32m━━━━━━━━━━━━━━━━━━━━\u001b[0m\u001b[37m\u001b[0m \u001b[1m20s\u001b[0m 9ms/step - accuracy: 0.7874 - loss: 0.6518\n",
            "Epoch 16/50\n",
            "\u001b[1m2176/2176\u001b[0m \u001b[32m━━━━━━━━━━━━━━━━━━━━\u001b[0m\u001b[37m\u001b[0m \u001b[1m21s\u001b[0m 9ms/step - accuracy: 0.7931 - loss: 0.6345\n",
            "Epoch 17/50\n",
            "\u001b[1m2176/2176\u001b[0m \u001b[32m━━━━━━━━━━━━━━━━━━━━\u001b[0m\u001b[37m\u001b[0m \u001b[1m32s\u001b[0m 14ms/step - accuracy: 0.8010 - loss: 0.6099\n",
            "Epoch 18/50\n",
            "\u001b[1m2176/2176\u001b[0m \u001b[32m━━━━━━━━━━━━━━━━━━━━\u001b[0m\u001b[37m\u001b[0m \u001b[1m29s\u001b[0m 9ms/step - accuracy: 0.8068 - loss: 0.5937\n",
            "Epoch 19/50\n",
            "\u001b[1m2176/2176\u001b[0m \u001b[32m━━━━━━━━━━━━━━━━━━━━\u001b[0m\u001b[37m\u001b[0m \u001b[1m21s\u001b[0m 9ms/step - accuracy: 0.8101 - loss: 0.5792\n",
            "Epoch 20/50\n",
            "\u001b[1m2176/2176\u001b[0m \u001b[32m━━━━━━━━━━━━━━━━━━━━\u001b[0m\u001b[37m\u001b[0m \u001b[1m20s\u001b[0m 9ms/step - accuracy: 0.8166 - loss: 0.5551\n",
            "Epoch 21/50\n",
            "\u001b[1m2176/2176\u001b[0m \u001b[32m━━━━━━━━━━━━━━━━━━━━\u001b[0m\u001b[37m\u001b[0m \u001b[1m21s\u001b[0m 9ms/step - accuracy: 0.8209 - loss: 0.5438\n",
            "Epoch 22/50\n",
            "\u001b[1m2176/2176\u001b[0m \u001b[32m━━━━━━━━━━━━━━━━━━━━\u001b[0m\u001b[37m\u001b[0m \u001b[1m19s\u001b[0m 9ms/step - accuracy: 0.8279 - loss: 0.5190\n",
            "Epoch 23/50\n",
            "\u001b[1m2176/2176\u001b[0m \u001b[32m━━━━━━━━━━━━━━━━━━━━\u001b[0m\u001b[37m\u001b[0m \u001b[1m20s\u001b[0m 9ms/step - accuracy: 0.8355 - loss: 0.5022\n",
            "Epoch 24/50\n",
            "\u001b[1m2176/2176\u001b[0m \u001b[32m━━━━━━━━━━━━━━━━━━━━\u001b[0m\u001b[37m\u001b[0m \u001b[1m20s\u001b[0m 9ms/step - accuracy: 0.8386 - loss: 0.4868\n",
            "Epoch 25/50\n",
            "\u001b[1m2176/2176\u001b[0m \u001b[32m━━━━━━━━━━━━━━━━━━━━\u001b[0m\u001b[37m\u001b[0m \u001b[1m19s\u001b[0m 9ms/step - accuracy: 0.8406 - loss: 0.4805\n",
            "Epoch 26/50\n",
            "\u001b[1m2176/2176\u001b[0m \u001b[32m━━━━━━━━━━━━━━━━━━━━\u001b[0m\u001b[37m\u001b[0m \u001b[1m21s\u001b[0m 9ms/step - accuracy: 0.8462 - loss: 0.4642\n",
            "Epoch 27/50\n",
            "\u001b[1m2176/2176\u001b[0m \u001b[32m━━━━━━━━━━━━━━━━━━━━\u001b[0m\u001b[37m\u001b[0m \u001b[1m21s\u001b[0m 9ms/step - accuracy: 0.8475 - loss: 0.4559\n",
            "Epoch 28/50\n",
            "\u001b[1m2176/2176\u001b[0m \u001b[32m━━━━━━━━━━━━━━━━━━━━\u001b[0m\u001b[37m\u001b[0m \u001b[1m20s\u001b[0m 9ms/step - accuracy: 0.8532 - loss: 0.4393\n",
            "Epoch 29/50\n",
            "\u001b[1m2176/2176\u001b[0m \u001b[32m━━━━━━━━━━━━━━━━━━━━\u001b[0m\u001b[37m\u001b[0m \u001b[1m20s\u001b[0m 9ms/step - accuracy: 0.8612 - loss: 0.4189\n",
            "Epoch 30/50\n",
            "\u001b[1m2176/2176\u001b[0m \u001b[32m━━━━━━━━━━━━━━━━━━━━\u001b[0m\u001b[37m\u001b[0m \u001b[1m20s\u001b[0m 9ms/step - accuracy: 0.8637 - loss: 0.4108\n",
            "Epoch 31/50\n",
            "\u001b[1m2176/2176\u001b[0m \u001b[32m━━━━━━━━━━━━━━━━━━━━\u001b[0m\u001b[37m\u001b[0m \u001b[1m20s\u001b[0m 9ms/step - accuracy: 0.8609 - loss: 0.4180\n",
            "Epoch 32/50\n",
            "\u001b[1m2176/2176\u001b[0m \u001b[32m━━━━━━━━━━━━━━━━━━━━\u001b[0m\u001b[37m\u001b[0m \u001b[1m20s\u001b[0m 9ms/step - accuracy: 0.8663 - loss: 0.3981\n",
            "Epoch 33/50\n",
            "\u001b[1m2176/2176\u001b[0m \u001b[32m━━━━━━━━━━━━━━━━━━━━\u001b[0m\u001b[37m\u001b[0m \u001b[1m19s\u001b[0m 9ms/step - accuracy: 0.8686 - loss: 0.3937\n",
            "Epoch 34/50\n",
            "\u001b[1m2176/2176\u001b[0m \u001b[32m━━━━━━━━━━━━━━━━━━━━\u001b[0m\u001b[37m\u001b[0m \u001b[1m20s\u001b[0m 9ms/step - accuracy: 0.8711 - loss: 0.3851\n",
            "Epoch 35/50\n",
            "\u001b[1m2176/2176\u001b[0m \u001b[32m━━━━━━━━━━━━━━━━━━━━\u001b[0m\u001b[37m\u001b[0m \u001b[1m20s\u001b[0m 9ms/step - accuracy: 0.8724 - loss: 0.3791\n",
            "Epoch 36/50\n",
            "\u001b[1m2176/2176\u001b[0m \u001b[32m━━━━━━━━━━━━━━━━━━━━\u001b[0m\u001b[37m\u001b[0m \u001b[1m19s\u001b[0m 9ms/step - accuracy: 0.8761 - loss: 0.3669\n",
            "Epoch 37/50\n",
            "\u001b[1m2176/2176\u001b[0m \u001b[32m━━━━━━━━━━━━━━━━━━━━\u001b[0m\u001b[37m\u001b[0m \u001b[1m21s\u001b[0m 9ms/step - accuracy: 0.8752 - loss: 0.3693\n",
            "Epoch 38/50\n",
            "\u001b[1m2176/2176\u001b[0m \u001b[32m━━━━━━━━━━━━━━━━━━━━\u001b[0m\u001b[37m\u001b[0m \u001b[1m21s\u001b[0m 9ms/step - accuracy: 0.8807 - loss: 0.3554\n",
            "Epoch 39/50\n",
            "\u001b[1m2176/2176\u001b[0m \u001b[32m━━━━━━━━━━━━━━━━━━━━\u001b[0m\u001b[37m\u001b[0m \u001b[1m20s\u001b[0m 9ms/step - accuracy: 0.8788 - loss: 0.3606\n",
            "Epoch 40/50\n",
            "\u001b[1m2176/2176\u001b[0m \u001b[32m━━━━━━━━━━━━━━━━━━━━\u001b[0m\u001b[37m\u001b[0m \u001b[1m20s\u001b[0m 9ms/step - accuracy: 0.8810 - loss: 0.3533\n",
            "Epoch 41/50\n",
            "\u001b[1m2176/2176\u001b[0m \u001b[32m━━━━━━━━━━━━━━━━━━━━\u001b[0m\u001b[37m\u001b[0m \u001b[1m19s\u001b[0m 9ms/step - accuracy: 0.8856 - loss: 0.3393\n",
            "Epoch 42/50\n",
            "\u001b[1m2176/2176\u001b[0m \u001b[32m━━━━━━━━━━━━━━━━━━━━\u001b[0m\u001b[37m\u001b[0m \u001b[1m20s\u001b[0m 9ms/step - accuracy: 0.8851 - loss: 0.3355\n",
            "Epoch 43/50\n",
            "\u001b[1m2176/2176\u001b[0m \u001b[32m━━━━━━━━━━━━━━━━━━━━\u001b[0m\u001b[37m\u001b[0m \u001b[1m22s\u001b[0m 9ms/step - accuracy: 0.8864 - loss: 0.3356\n",
            "Epoch 44/50\n",
            "\u001b[1m2176/2176\u001b[0m \u001b[32m━━━━━━━━━━━━━━━━━━━━\u001b[0m\u001b[37m\u001b[0m \u001b[1m19s\u001b[0m 9ms/step - accuracy: 0.8898 - loss: 0.3239\n",
            "Epoch 45/50\n",
            "\u001b[1m2176/2176\u001b[0m \u001b[32m━━━━━━━━━━━━━━━━━━━━\u001b[0m\u001b[37m\u001b[0m \u001b[1m21s\u001b[0m 9ms/step - accuracy: 0.8892 - loss: 0.3266\n",
            "Epoch 46/50\n",
            "\u001b[1m2176/2176\u001b[0m \u001b[32m━━━━━━━━━━━━━━━━━━━━\u001b[0m\u001b[37m\u001b[0m \u001b[1m20s\u001b[0m 9ms/step - accuracy: 0.8919 - loss: 0.3172\n",
            "Epoch 47/50\n",
            "\u001b[1m2176/2176\u001b[0m \u001b[32m━━━━━━━━━━━━━━━━━━━━\u001b[0m\u001b[37m\u001b[0m \u001b[1m20s\u001b[0m 9ms/step - accuracy: 0.8958 - loss: 0.3057\n",
            "Epoch 48/50\n",
            "\u001b[1m2176/2176\u001b[0m \u001b[32m━━━━━━━━━━━━━━━━━━━━\u001b[0m\u001b[37m\u001b[0m \u001b[1m20s\u001b[0m 9ms/step - accuracy: 0.8941 - loss: 0.3081\n",
            "Epoch 49/50\n",
            "\u001b[1m2176/2176\u001b[0m \u001b[32m━━━━━━━━━━━━━━━━━━━━\u001b[0m\u001b[37m\u001b[0m \u001b[1m20s\u001b[0m 9ms/step - accuracy: 0.8971 - loss: 0.2997\n",
            "Epoch 50/50\n",
            "\u001b[1m2176/2176\u001b[0m \u001b[32m━━━━━━━━━━━━━━━━━━━━\u001b[0m\u001b[37m\u001b[0m \u001b[1m19s\u001b[0m 9ms/step - accuracy: 0.8931 - loss: 0.3166\n"
          ]
        }
      ]
    },
    {
      "cell_type": "code",
      "source": [],
      "metadata": {
        "id": "wOEASCfyLk5a"
      },
      "execution_count": 19,
      "outputs": []
    },
    {
      "cell_type": "code",
      "source": [],
      "metadata": {
        "id": "mHwI-8MBLk3j"
      },
      "execution_count": 19,
      "outputs": []
    },
    {
      "cell_type": "code",
      "source": [],
      "metadata": {
        "id": "gBW4x1szLk1V"
      },
      "execution_count": 19,
      "outputs": []
    },
    {
      "cell_type": "code",
      "source": [],
      "metadata": {
        "id": "J7DzqhyRLkyM"
      },
      "execution_count": 19,
      "outputs": []
    },
    {
      "cell_type": "code",
      "source": [],
      "metadata": {
        "id": "maClA9OqLkv7"
      },
      "execution_count": 19,
      "outputs": []
    },
    {
      "cell_type": "code",
      "source": [],
      "metadata": {
        "id": "aelJl_RBLkpM"
      },
      "execution_count": 19,
      "outputs": []
    }
  ],
  "metadata": {
    "colab": {
      "provenance": [],
      "collapsed_sections": [
        "n3CgbM0q_J1T",
        "HO5o3tc__RY1",
        "iNKSUh23CNJp",
        "wDqvzq0iD_h2",
        "wWRFIW9yDfup",
        "-tWekI4LCSDr",
        "QKqZHD8ECkPZ"
      ],
      "gpuType": "T4",
      "mount_file_id": "1XEPcCZpAB5E0N8AIoFmx-eLUxfzGpQOy",
      "authorship_tag": "ABX9TyPPEVH0jlOdeHssMstbRVrv",
      "include_colab_link": true
    },
    "kernelspec": {
      "display_name": "Python 3",
      "name": "python3"
    },
    "language_info": {
      "name": "python"
    },
    "accelerator": "GPU"
  },
  "nbformat": 4,
  "nbformat_minor": 0
}